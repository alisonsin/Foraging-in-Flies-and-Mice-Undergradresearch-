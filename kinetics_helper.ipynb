{
 "cells": [
  {
   "cell_type": "code",
   "execution_count": 1,
   "metadata": {},
   "outputs": [],
   "source": [
    "import pandas as pd\n",
    "import numpy as np\n",
    "import matplotlib.pyplot as plt\n",
    "import traja"
   ]
  },
  {
   "cell_type": "code",
   "execution_count": 2,
   "metadata": {},
   "outputs": [],
   "source": [
    "data = np.load('newrawdata.npy',allow_pickle=True)\n",
    "flynum = data[1].shape[0] #384"
   ]
  },
  {
   "cell_type": "code",
   "execution_count": 3,
   "metadata": {},
   "outputs": [],
   "source": [
    "food_type = data[1]\n",
    "starve_period = data[2]\n",
    "meal_vol = data[15]\n",
    "xcm = data[3] #x center of mass location #(384,)\n",
    "ycm = data[5]\n",
    "start_time = data[12]\n",
    "t_offset = 1.0/3.0 \n",
    "t = data[16] - t_offset"
   ]
  },
  {
   "cell_type": "markdown",
   "metadata": {},
   "source": [
    "### Get x,y 5 seconds AFTER 1st meal"
   ]
  },
  {
   "cell_type": "code",
   "execution_count": 4,
   "metadata": {},
   "outputs": [],
   "source": [
    "# ? seconds before 1st meal -> 1st meal\n",
    "first_meal_start = np.array([start_time[i][0] for i in range(flynum)])\n",
    "\n",
    "# get that trajectory\n",
    "x_traj = []\n",
    "y_traj = []\n",
    "for i in range(flynum):\n",
    "    idx = (t[i] >= (first_meal_start[i])) & (t[i] <= (first_meal_start[i] + 5))   #5 seconds after 1st meal\n",
    "    x_traj.append(xcm[i][idx])\n",
    "    y_traj.append(ycm[i][idx])\n",
    "x_traj = np.array(x_traj,dtype=object)\n",
    "y_traj = np.array(y_traj,dtype=object)\n",
    "\n",
    "def traj(flyno):\n",
    "    return np.vstack((x_traj[flyno], y_traj[flyno]))"
   ]
  },
  {
   "cell_type": "markdown",
   "metadata": {},
   "source": [
    "### Finding Conditions"
   ]
  },
  {
   "cell_type": "code",
   "execution_count": 5,
   "metadata": {},
   "outputs": [],
   "source": [
    "#By Foodtype\n",
    "mM1000 = np.where(food_type == '1000mM')[0] #(90,)\n",
    "mM100 = np.where(food_type == '100mM')[0]\n",
    "mM10 = np.where(food_type == '10mM')[0]\n",
    "mM1 = np.where(food_type == '1mM')[0]  #(48,)\n",
    "mMwater = np.where(food_type == 'water')[0]\n",
    "\n",
    "#By starvetime\n",
    "st_0 = np.where(starve_period == '0')[0]\n",
    "st_8 = np.where(starve_period == '8')[0]\n",
    "st_16 = np.where(starve_period == '16')[0]\n",
    "st_24 = np.where(starve_period == '24')[0]\n",
    "st_32 = np.where(starve_period == '32')[0]\n",
    "\n",
    "#Volume of first bout \n",
    "vol_first = np.array([meal_vol[i][0] for i in range(flynum)])"
   ]
  },
  {
   "cell_type": "markdown",
   "metadata": {},
   "source": [
    "### Multiple Trajectories"
   ]
  },
  {
   "cell_type": "code",
   "execution_count": 6,
   "metadata": {},
   "outputs": [],
   "source": [
    "from traja import TrajaCollection\n",
    "\n",
    "def create_df(flyno):\n",
    "    x_fly = traj(flyno)[0]\n",
    "    y_fly = traj(flyno)[1]\n",
    "    d = {'x': x_fly, 'y': y_fly}\n",
    "    df = pd.DataFrame(data=d)\n",
    "    df = traja.TrajaDataFrame(df)\n",
    "    return df\n",
    "\n",
    "# Create a dictionary of DataFrames, with 'id' as key.\n",
    "keys = np.arange(flynum)\n",
    "all_values = [] #create values - i.e. df for each fly\n",
    "for n in range(flynum):\n",
    "    all_values.append(create_df(n))\n",
    "\n",
    "df_all = {}\n",
    "for i in range(flynum):\n",
    "    df_all[i] = all_values[i]\n",
    "\n",
    "# Create a TrajaCollection df (x,y,id)\n",
    "trjs = TrajaCollection(df_all)"
   ]
  },
  {
   "cell_type": "markdown",
   "metadata": {},
   "source": [
    "## 1. Calculating Turning Points for each fly (grouped)"
   ]
  },
  {
   "cell_type": "code",
   "execution_count": 7,
   "metadata": {},
   "outputs": [],
   "source": [
    "def all_angles_wrt_xaxis(condition):\n",
    "    '''angle between steps as a function of displacement with regard to x axis.\n",
    "    \"e.g. condition = st_0\"'''\n",
    "    all_turns = []\n",
    "    for j in range(len(condition)):\n",
    "        turns = traja.calc_angle(trjs[trjs['id'] == condition[j]])\n",
    "        if turns.shape == (150,):\n",
    "            all_turns.append(turns)\n",
    "    return  np.array(all_turns)"
   ]
  },
  {
   "cell_type": "code",
   "execution_count": 8,
   "metadata": {},
   "outputs": [],
   "source": [
    "def turning_point(min_angle, condition):\n",
    "    all_turns = all_angles_wrt_xaxis(condition)\n",
    "    theta = np.abs(np.diff(all_turns, axis=1)) #diff in angle\n",
    "    idx_all = []\n",
    "    for i in range(len(condition)-1):\n",
    "        idx = np.where([theta[i] > min_angle][0])[0]\n",
    "        idx_all.append(idx)\n",
    "    return np.array(idx_all, dtype = list)"
   ]
  },
  {
   "cell_type": "code",
   "execution_count": 9,
   "metadata": {},
   "outputs": [],
   "source": [
    "def plot_turn_points(fly_num, min_angle, condition):\n",
    "    turn_pt = turning_point(min_angle, condition)\n",
    "    sx = trjs[trjs['id'] == st_0[fly_num]]['x']\n",
    "    sy = trjs[trjs['id'] == st_0[fly_num]]['y']\n",
    "    idx = turn_pt[fly_num]  \n",
    "    # Visualize valuable turning points\n",
    "    fig = plt.figure()\n",
    "    ax = fig.add_subplot(111)\n",
    "    ax.plot(sx, sy, 'k--', label='trajectory')\n",
    "    ax.plot(sx[idx], sy[idx], 'ro', markersize = 4, label='turning points')\n",
    "    ax.set_xlabel(\"cm\")\n",
    "    ax.set_ylabel(\"cm\")\n",
    "    ax.legend(loc='best')\n",
    "    ax.set_title('Trajectory of Example Fly')"
   ]
  },
  {
   "cell_type": "markdown",
   "metadata": {},
   "source": [
    "### You are free to change these variables"
   ]
  },
  {
   "cell_type": "code",
   "execution_count": 10,
   "metadata": {},
   "outputs": [
    {
     "data": {
      "image/png": "[encoded data removed]",
      "text/plain": [
       "<Figure size 432x288 with 1 Axes>"
      ]
     },
     "metadata": {
      "needs_background": "light"
     },
     "output_type": "display_data"
    }
   ],
   "source": [
    "min_angle = 2\n",
    "condition = st_0 #0-hr fasted\n",
    "fly_num = 7\n",
    "plot_turn_points(fly_num, min_angle, condition)"
   ]
  },
  {
   "cell_type": "markdown",
   "metadata": {},
   "source": [
    "## 2. Calculating Straightness (path / D) for each fly (grouped)"
   ]
  },
  {
   "cell_type": "code",
   "execution_count": 11,
   "metadata": {},
   "outputs": [],
   "source": [
    "import math\n",
    "def calculate_distance(starting_x, starting_y, destination_x, destination_y):\n",
    "    distance = math.hypot(destination_x - starting_x, destination_y - starting_y)  # calculates Euclidean distance (straight-line) distance between two points\n",
    "    return np.abs(distance)\n",
    "\n",
    "def calculate_path(selected_map):\n",
    "    total_distance = 0\n",
    "    current_point = selected_map[0]\n",
    "    for next_point in selected_map[1:]:\n",
    "        current_distance = calculate_distance(\n",
    "            current_point[0], current_point[1],\n",
    "            next_point[0], next_point[1])\n",
    "        total_distance += current_distance\n",
    "        current_point = next_point\n",
    "    return total_distance"
   ]
  },
  {
   "cell_type": "code",
   "execution_count": 12,
   "metadata": {},
   "outputs": [],
   "source": [
    "def all_straightness(cond):\n",
    "    \"cond = st_0\"\n",
    "    str_all = []\n",
    "    for i in range(len(cond)):\n",
    "        flytraj = traj(i)\n",
    "        x, y = flytraj \n",
    "        d = calculate_distance(x[0], y[0], x[-1], y[-1])\n",
    "        path = calculate_path(flytraj.T)\n",
    "        straightness = path/d\n",
    "        str_all.append(straightness)\n",
    "    return np.array(str_all)"
   ]
  },
  {
   "cell_type": "code",
   "execution_count": 13,
   "metadata": {},
   "outputs": [
    {
     "name": "stdout",
     "output_type": "stream",
     "text": [
      "Straightness(0-hr starved):[1.285619   1.00005956 1.3902732  2.70332534 1.00016323 1.00004434\n",
      " 1.05024074 2.35158293 1.00072111 1.81235882]\n"
     ]
    }
   ],
   "source": [
    "print('Straightness(0-hr starved):'+ str(all_straightness(st_0)))"
   ]
  },
  {
   "cell_type": "code",
   "execution_count": null,
   "metadata": {},
   "outputs": [],
   "source": []
  },
  {
   "cell_type": "code",
   "execution_count": null,
   "metadata": {},
   "outputs": [],
   "source": []
  },
  {
   "cell_type": "markdown",
   "metadata": {},
   "source": [
    "## 3. Calculating Thoroughness for each fly (grouped)"
   ]
  },
  {
   "cell_type": "code",
   "execution_count": 14,
   "metadata": {},
   "outputs": [],
   "source": [
    "def Length(flyno):\n",
    "    flytraj = traj(flyno)\n",
    "    lengths = np.sqrt(np.sum(np.diff(flytraj, axis=0)**2, axis=1)) # Total length: L\n",
    "    return np.sum(lengths)  "
   ]
  },
  {
   "cell_type": "code",
   "execution_count": 15,
   "metadata": {},
   "outputs": [],
   "source": [
    "def radius(flyno):\n",
    "    flytraj = traj(flyno)    \n",
    "    from scipy import spatial\n",
    "    cand = flytraj[spatial.ConvexHull(flytraj).vertices]\n",
    "    dist_mat = spatial.distance_matrix(cand, cand)\n",
    "    i, j = np.unravel_index(dist_mat.argmax(), dist_mat.shape)\n",
    "    #print(cand[i], cand[j])\n",
    "    import math\n",
    "    dist = math.hypot(cand[j][0] - cand[i][0], cand[j][1] - cand[i][1])\n",
    "    r = dist/2\n",
    "    return r"
   ]
  },
  {
   "cell_type": "code",
   "execution_count": 16,
   "metadata": {},
   "outputs": [],
   "source": [
    "w = 1/10 #assume width of flies' body = 1mm\n",
    "\n",
    "def thoroughnessind(L,r,w = 1/10):\n",
    "    return 1- np.exp(((-4)*L*w)/(np.pi* (r**2)))    #find out why is it 4\n",
    "\n",
    "def all_t(cond):\n",
    "    \"cond = st_0\"\n",
    "    t_all = []\n",
    "    for n in cond:\n",
    "        L = Length(n)\n",
    "        r = radius(n)\n",
    "        t = thoroughnessind(L,r,w = 1/10)\n",
    "        #print('fly: ' + str(n) + ' t: '+ str(t))\n",
    "        t_all.append(t)\n",
    "    return np.array(t_all)"
   ]
  },
  {
   "cell_type": "code",
   "execution_count": null,
   "metadata": {},
   "outputs": [],
   "source": []
  }
 ],
 "metadata": {
  "kernelspec": {
   "display_name": "Python 3",
   "language": "python",
   "name": "python3"
  },
  "language_info": {
   "codemirror_mode": {
    "name": "ipython",
    "version": 3
   },
   "file_extension": ".py",
   "mimetype": "text/x-python",
   "name": "python",
   "nbconvert_exporter": "python",
   "pygments_lexer": "ipython3",
   "version": "3.6.10"
  }
 },
 "nbformat": 4,
 "nbformat_minor": 4
}
