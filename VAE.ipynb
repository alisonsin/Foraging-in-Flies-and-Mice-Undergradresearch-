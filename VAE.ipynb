{
 "cells": [
  {
   "cell_type": "markdown",
   "metadata": {},
   "source": [
    "# Predicting Trajectory using Traja"
   ]
  },
  {
   "cell_type": "code",
   "execution_count": 1,
   "metadata": {},
   "outputs": [],
   "source": [
    "import pandas as pd\n",
    "import numpy as np\n",
    "import matplotlib.pyplot as plt\n",
    "import traja"
   ]
  },
  {
   "cell_type": "code",
   "execution_count": 2,
   "metadata": {},
   "outputs": [],
   "source": [
    "data = np.load('newrawdata.npy',allow_pickle=True)\n",
    "flynum = data[1].shape[0] #384"
   ]
  },
  {
   "cell_type": "code",
   "execution_count": 3,
   "metadata": {},
   "outputs": [],
   "source": [
    "xcm = data[3] #x center of mass location #(384,)\n",
    "ycm = data[5]\n",
    "end_time = data[13]\n",
    "t_offset = 1.0/3.0 \n",
    "t = data[16] - t_offset"
   ]
  },
  {
   "cell_type": "code",
   "execution_count": 4,
   "metadata": {},
   "outputs": [],
   "source": [
    "# ? seconds before 1st meal -> 1st meal\n",
    "first_meal_end = np.array([end_time[i][0] for i in range(flynum)])\n",
    "\n",
    "# get that trajectory\n",
    "x_traj = []\n",
    "y_traj = []\n",
    "for i in range(flynum):\n",
    "    idx = (t[i] >= (first_meal_end[i])) & (t[i] <= (first_meal_end[i] + 5))   #5 seconds after 1st meal\n",
    "    x_traj.append(xcm[i][idx])\n",
    "    y_traj.append(ycm[i][idx])\n",
    "x_traj = np.array(x_traj,dtype=object)\n",
    "y_traj = np.array(y_traj,dtype=object)\n",
    "\n",
    "def traj(flyno):\n",
    "    return np.vstack((x_traj[flyno], y_traj[flyno]))"
   ]
  },
  {
   "cell_type": "code",
   "execution_count": 5,
   "metadata": {},
   "outputs": [],
   "source": [
    "from traja import TrajaCollection\n",
    "def create_df(flyno):\n",
    "    x_fly = traj(flyno)[0]\n",
    "    y_fly = traj(flyno)[1]\n",
    "    d = {'x': x_fly, 'y': y_fly}\n",
    "    df = pd.DataFrame(data=d)\n",
    "    df = traja.TrajaDataFrame(df)\n",
    "    return df\n",
    "\n",
    "# Create a dictionary of DataFrames, with 'id' as key.\n",
    "keys = np.arange(flynum)\n",
    "all_values = [] #create values - i.e. df for each fly\n",
    "for n in range(flynum):\n",
    "    all_values.append(create_df(n))\n",
    "\n",
    "df_all = {}\n",
    "for i in range(flynum):\n",
    "    df_all[i] = all_values[i]\n",
    "\n",
    "# Create a TrajaCollection df (x,y,id)\n",
    "trjs = TrajaCollection(df_all)\n",
    "\n",
    "trjs = trjs.rename({'id': 'ID'}, axis=1)"
   ]
  },
  {
   "cell_type": "code",
   "execution_count": 7,
   "metadata": {},
   "outputs": [],
   "source": [
    "batch_size = 10 # How many sequences to train every step. Constrained by GPU memory.\n",
    "num_past = 8 # How many time steps from which to learn the time series\n",
    "num_future = 8 # How many time steps to predict\n",
    "split_by_id = False "
   ]
  },
  {
   "cell_type": "code",
   "execution_count": 8,
   "metadata": {},
   "outputs": [],
   "source": [
    "df_used = trjs\n",
    "\n",
    "dataloaders = traja.dataset.MultiModalDataLoader(df_used, batch_size=batch_size, n_past=num_past,\n",
    "n_future=num_future, num_workers=0, split_by_id=split_by_id)"
   ]
  },
  {
   "cell_type": "code",
   "execution_count": 9,
   "metadata": {},
   "outputs": [],
   "source": [
    "from traja.models.predictive_models.lstm import LSTM\n",
    "input_size = 2 # Number of input dimensions (normally x, y)\n",
    "output_size = 2 # Same as input_size when predicting\n",
    "num_layers = 2 # Number of LSTM layers. Deeper learns more complex patterns but overfits.\n",
    "hidden_size = 32 # Width of layers. Wider learns bigger patterns but overfits. Try 32, 64, 128, 256, 512\n",
    "dropout = 0.1 # Ignore some network connections. Improves generalisation.\n",
    "\n",
    "\n",
    "model = LSTM(input_size=input_size,\n",
    "             hidden_size=hidden_size,\n",
    "             num_layers=num_layers,\n",
    "             output_size=output_size,\n",
    "             dropout=dropout,\n",
    "             batch_size=batch_size)"
   ]
  },
  {
   "cell_type": "code",
   "execution_count": 10,
   "metadata": {},
   "outputs": [
    {
     "name": "stdout",
     "output_type": "stream",
     "text": [
      "Epoch 1 | forecasting loss 0.2159959077835083\n",
      "Epoch 2 | forecasting loss 0.051325324922800064\n",
      "Epoch 3 | forecasting loss 0.030973143875598907\n",
      "Epoch 4 | forecasting loss 0.020624425262212753\n",
      "Epoch 5 | forecasting loss 0.014800291508436203\n",
      "Epoch 6 | forecasting loss 0.01052561029791832\n",
      "Epoch 7 | forecasting loss 0.008959823288023472\n",
      "Epoch 8 | forecasting loss 0.007909928448498249\n",
      "Epoch 9 | forecasting loss 0.006925619672983885\n",
      "====> Mean Test set forecasting loss: 0.0064\n",
      "Epoch 10 | forecasting loss 0.00635586678981781\n",
      "Epoch 11 | forecasting loss 0.006071597337722778\n",
      "Epoch 12 | forecasting loss 0.0056290836073458195\n",
      "Epoch 13 | forecasting loss 0.005362961441278458\n",
      "Epoch 14 | forecasting loss 0.0051287091337144375\n",
      "Epoch 15 | forecasting loss 0.005053331609815359\n",
      "Epoch 16 | forecasting loss 0.004845492076128721\n",
      "Epoch 17 | forecasting loss 0.004779943730682135\n",
      "Epoch 18 | forecasting loss 0.0045218016020953655\n",
      "Epoch 19 | forecasting loss 0.004549575038254261\n",
      "====> Mean Test set forecasting loss: 0.0043\n",
      "Epoch 20 | forecasting loss 0.004398163408041\n",
      "Epoch    21: reducing learning rate of group 0 to 1.0000e-04.\n",
      "Epoch 21 | forecasting loss 0.004009782802313566\n",
      "Epoch 22 | forecasting loss 0.004082162398844957\n",
      "Epoch 23 | forecasting loss 0.0038479147478938103\n",
      "Epoch 24 | forecasting loss 0.003920460119843483\n",
      "Epoch 25 | forecasting loss 0.003959640394896269\n",
      "Epoch 26 | forecasting loss 0.0038558298256248236\n",
      "Epoch 27 | forecasting loss 0.003926197066903114\n",
      "Epoch 28 | forecasting loss 0.003920171409845352\n",
      "Epoch 29 | forecasting loss 0.003955020569264889\n",
      "====> Mean Test set forecasting loss: 0.0041\n",
      "Epoch 30 | forecasting loss 0.003913664259016514\n",
      "Epoch 31 | forecasting loss 0.003903441596776247\n",
      "Epoch    32: reducing learning rate of group 0 to 1.0000e-05.\n",
      "Epoch 32 | forecasting loss 0.0038161014672368765\n",
      "Epoch 33 | forecasting loss 0.003856412600725889\n",
      "Epoch 34 | forecasting loss 0.0038006273098289967\n",
      "Epoch 35 | forecasting loss 0.0038341593462973833\n",
      "Epoch 36 | forecasting loss 0.003827863372862339\n",
      "Epoch 37 | forecasting loss 0.0037806222680956125\n",
      "Epoch 38 | forecasting loss 0.0038397321477532387\n",
      "Epoch 39 | forecasting loss 0.003867206396535039\n",
      "====> Mean Test set forecasting loss: 0.0040\n",
      "Epoch 40 | forecasting loss 0.003835137002170086\n",
      "Epoch 41 | forecasting loss 0.0037946966476738453\n",
      "Epoch 42 | forecasting loss 0.003850045381113887\n",
      "Epoch    43: reducing learning rate of group 0 to 1.0000e-06.\n",
      "Epoch 43 | forecasting loss 0.003792749485000968\n",
      "Epoch 44 | forecasting loss 0.003866590326651931\n",
      "Epoch 45 | forecasting loss 0.003785455133765936\n",
      "Epoch 46 | forecasting loss 0.003822747152298689\n",
      "Epoch 47 | forecasting loss 0.0038010310381650925\n",
      "Epoch 48 | forecasting loss 0.0037613038439303637\n",
      "Epoch 49 | forecasting loss 0.003830055007711053\n",
      "====> Mean Test set forecasting loss: 0.0041\n",
      "Epoch 50 | forecasting loss 0.0037706007715314627\n",
      "Epoch 51 | forecasting loss 0.003722128691151738\n",
      "Epoch 52 | forecasting loss 0.0038723594043403864\n",
      "Epoch 53 | forecasting loss 0.004045786801725626\n",
      "Epoch    54: reducing learning rate of group 0 to 1.0000e-07.\n",
      "Epoch 54 | forecasting loss 0.003805242944508791\n",
      "Epoch 55 | forecasting loss 0.0037040566094219685\n",
      "Epoch 56 | forecasting loss 0.0038052189629524946\n",
      "Epoch 57 | forecasting loss 0.00377130089327693\n",
      "Epoch 58 | forecasting loss 0.0038046909030526876\n",
      "Epoch 59 | forecasting loss 0.003818509168922901\n",
      "====> Mean Test set forecasting loss: 0.0041\n",
      "Epoch 60 | forecasting loss 0.003864405443891883\n",
      "Epoch 61 | forecasting loss 0.003819045377895236\n",
      "Epoch 62 | forecasting loss 0.0037858490832149982\n",
      "Epoch 63 | forecasting loss 0.0039394311606884\n",
      "Epoch 64 | forecasting loss 0.003812920767813921\n",
      "Epoch    65: reducing learning rate of group 0 to 1.0000e-08.\n",
      "Epoch 65 | forecasting loss 0.0038846058305352926\n",
      "Epoch 66 | forecasting loss 0.003839018987491727\n",
      "Epoch 67 | forecasting loss 0.0038279383443295956\n",
      "Epoch 68 | forecasting loss 0.0037715791258960962\n",
      "Epoch 69 | forecasting loss 0.003856477327644825\n",
      "====> Mean Test set forecasting loss: 0.0041\n",
      "Epoch 70 | forecasting loss 0.0038498463109135628\n",
      "Epoch 71 | forecasting loss 0.0038681523874402046\n",
      "Epoch 72 | forecasting loss 0.003740067593753338\n",
      "Epoch 73 | forecasting loss 0.003779482329264283\n",
      "Epoch 74 | forecasting loss 0.003790124785155058\n",
      "Epoch 75 | forecasting loss 0.003921427298337221\n",
      "Epoch 76 | forecasting loss 0.003780780825763941\n",
      "Epoch 77 | forecasting loss 0.0038688203785568476\n",
      "Epoch 78 | forecasting loss 0.0038139773532748222\n",
      "Epoch 79 | forecasting loss 0.0038523974362760782\n",
      "====> Mean Test set forecasting loss: 0.0040\n",
      "Epoch 80 | forecasting loss 0.003789612790569663\n",
      "Epoch 81 | forecasting loss 0.003820121521130204\n",
      "Epoch 82 | forecasting loss 0.0037905487697571516\n",
      "Epoch 83 | forecasting loss 0.003846587613224983\n",
      "Epoch 84 | forecasting loss 0.0037639974616467953\n",
      "Epoch 85 | forecasting loss 0.0039005624130368233\n",
      "Epoch 86 | forecasting loss 0.0038364073261618614\n",
      "Epoch 87 | forecasting loss 0.0037402864545583725\n",
      "Epoch 88 | forecasting loss 0.00388231105171144\n",
      "Epoch 89 | forecasting loss 0.0038504106923937798\n",
      "====> Mean Test set forecasting loss: 0.0041\n",
      "Epoch 90 | forecasting loss 0.003801444312557578\n",
      "Epoch 91 | forecasting loss 0.0038014729507267475\n",
      "Epoch 92 | forecasting loss 0.0038049190770834684\n",
      "Epoch 93 | forecasting loss 0.0038679433055222034\n",
      "Epoch 94 | forecasting loss 0.0037949662655591965\n",
      "Epoch 95 | forecasting loss 0.0037893119733780622\n",
      "Epoch 96 | forecasting loss 0.0038060909137129784\n",
      "Epoch 97 | forecasting loss 0.0037802730221301317\n",
      "Epoch 98 | forecasting loss 0.0038661707658320665\n",
      "Epoch 99 | forecasting loss 0.0037394945975393057\n",
      "====> Mean Test set forecasting loss: 0.0041\n",
      "Epoch 100 | forecasting loss 0.003812310053035617\n",
      "Model and hyperparameters saved at /Users/alisonsin/Desktop/thesis/fly\n"
     ]
    }
   ],
   "source": [
    "from traja.models.train import HybridTrainer\n",
    "\n",
    "optimizer_type = 'Adam' # Nonlinear optimiser with momentum\n",
    "loss_type = 'huber'\n",
    "\n",
    "# Trainer\n",
    "trainer = HybridTrainer(model=model,\n",
    "                        optimizer_type=optimizer_type,\n",
    "                        loss_type=loss_type)\n",
    "# Train the model\n",
    "trainer.fit(dataloaders, model_save_path='./model.pt', epochs=100, training_mode='forecasting')"
   ]
  },
  {
   "cell_type": "code",
   "execution_count": 11,
   "metadata": {},
   "outputs": [
    {
     "name": "stdout",
     "output_type": "stream",
     "text": [
      "====> Mean Validation set generator loss: 0.0195\n"
     ]
    },
    {
     "data": {
      "text/plain": [
       "(0.019456186390016228, 0.0, 0.0)"
      ]
     },
     "execution_count": 11,
     "metadata": {},
     "output_type": "execute_result"
    }
   ],
   "source": [
    "validation_loader = dataloaders['sequential_validation_loader']\n",
    "trainer.validate(validation_loader)"
   ]
  },
  {
   "cell_type": "code",
   "execution_count": 12,
   "metadata": {},
   "outputs": [
    {
     "data": {
      "image/png": "[encoded data removed]",
      "text/plain": [
       "<Figure size 720x720 with 2 Axes>"
      ]
     },
     "metadata": {
      "needs_background": "light"
     },
     "output_type": "display_data"
    }
   ],
   "source": [
    "from traja.plotting import plot_prediction\n",
    "batch_index = 0\n",
    "plot_prediction(model, validation_loader, batch_index)"
   ]
  },
  {
   "cell_type": "markdown",
   "metadata": {},
   "source": [
    "# Predicting Trajectory using my Own Code"
   ]
  },
  {
   "cell_type": "code",
   "execution_count": 13,
   "metadata": {},
   "outputs": [],
   "source": [
    "import torch\n",
    "import torchvision\n",
    "import torch.optim as optim\n",
    "import argparse\n",
    "import matplotlib\n",
    "import torch.nn as nn\n",
    "import matplotlib.pyplot as plt\n",
    "import torchvision.transforms as transforms\n",
    "import pandas as pd\n",
    "\n",
    "\n",
    "from tqdm import tqdm\n",
    "from torchvision import datasets\n",
    "from torch.utils.data import DataLoader\n",
    "from torchvision.utils import save_image\n",
    "\n",
    "from CustomDataset import customdataset"
   ]
  },
  {
   "cell_type": "code",
   "execution_count": 14,
   "metadata": {},
   "outputs": [],
   "source": [
    "#Set device\n",
    "device = torch.device('cuda' if torch.cuda.is_available() else 'cpu')"
   ]
  },
  {
   "cell_type": "code",
   "execution_count": 15,
   "metadata": {},
   "outputs": [],
   "source": [
    "#Creating train_csv\n",
    "train_df = pd.DataFrame(columns=[\"img_name\",\"label\"])\n",
    "train_df[\"img_name\"] = ['fly_0.jpg','fly_1.jpg','fly_2.jpg','fly_3.jpg',\n",
    "                        'fly_4.jpg','fly_5.jpg','fly_6.jpg','fly_7.jpg',\n",
    "                        'fly_8.jpg','fly_9.jpg']\n",
    "train_df[\"label\"] = [1,1,1,1,1,1,1,1,1,1]\n",
    "train_df.to_csv (r'train_csv.csv', index = False, header=True)"
   ]
  },
  {
   "cell_type": "code",
   "execution_count": 16,
   "metadata": {},
   "outputs": [],
   "source": [
    "transform = transforms.Compose([transforms.ToTensor(),\n",
    "                                transforms.Normalize((0.5),(0.5))])"
   ]
  },
  {
   "cell_type": "code",
   "execution_count": 17,
   "metadata": {},
   "outputs": [],
   "source": [
    "#Load data\n",
    "dataset = customdataset(csv_file = '/Users/alisonsin/Desktop/thesis/fly/train_csv.csv',\n",
    "                       root_dir = '/Users/alisonsin/Desktop/thesis/fly/fly_img', #of image\n",
    "                       transform = transform)"
   ]
  },
  {
   "cell_type": "code",
   "execution_count": 18,
   "metadata": {},
   "outputs": [],
   "source": [
    "train_set, test_set = torch.utils.data.random_split(dataset, [3,7])\n",
    "\n",
    "train_loader = DataLoader(dataset = train_set, batch_size = 3, shuffle=True)\n",
    "test_loader = DataLoader(dataset = test_set, batch_size = 3, shuffle=True)"
   ]
  },
  {
   "cell_type": "code",
   "execution_count": 19,
   "metadata": {},
   "outputs": [
    {
     "name": "stdout",
     "output_type": "stream",
     "text": [
      "tensor(-0.0017) tensor(0.0039)\n",
      "torch.Size([3, 1, 28, 28]) torch.Size([3])\n"
     ]
    }
   ],
   "source": [
    "dataiter = iter(train_loader)\n",
    "images, labels = dataiter.next()\n",
    "images = images[:, :1, :,:]/255 #BandW\n",
    "print(torch.min(images), torch.max(images))\n",
    "print(images.shape, labels.shape)  #3 images, 1 channel, 28*28 pixel"
   ]
  },
  {
   "cell_type": "markdown",
   "metadata": {},
   "source": [
    "## Before being inside Encoder"
   ]
  },
  {
   "cell_type": "code",
   "execution_count": 20,
   "metadata": {},
   "outputs": [
    {
     "data": {
      "image/png": "[encoded data removed]",
      "text/plain": [
       "<Figure size 576x576 with 3 Axes>"
      ]
     },
     "metadata": {
      "needs_background": "light"
     },
     "output_type": "display_data"
    }
   ],
   "source": [
    "figure = plt.figure(figsize=(8, 8))\n",
    "num_of_images = 3\n",
    "for index in range(1, num_of_images+1):\n",
    "    plt.subplot(4, 4, index)\n",
    "    plt.axis('off')\n",
    "    plt.tight_layout()\n",
    "    plt.title('Before, fly: ' + str(index))\n",
    "    plt.imshow(images[index-1].numpy().squeeze(), cmap='gray_r')"
   ]
  },
  {
   "cell_type": "code",
   "execution_count": 21,
   "metadata": {},
   "outputs": [],
   "source": [
    "class Autoencoder(nn.Module):\n",
    "    def __init__(self):\n",
    "        super().__init__()\n",
    "        self.encoder = nn.Sequential(\n",
    "            nn.Linear(28*28,1) #N, 19 -> N, 10\n",
    "            )\n",
    "        self.decoder = nn.Sequential(\n",
    "            nn.Linear(1, 28*28),\n",
    "            nn.Sigmoid()\n",
    "            )\n",
    "        \n",
    "    def forward(self,x):\n",
    "            encoded = self.encoder(x)\n",
    "            decoded = self.decoder(encoded)\n",
    "            return decoded"
   ]
  },
  {
   "cell_type": "code",
   "execution_count": 22,
   "metadata": {},
   "outputs": [],
   "source": [
    "model = Autoencoder()\n",
    "criterion = nn.MSELoss() \n",
    "optimizer = torch.optim.Adam(model.parameters(),lr = 0.001)"
   ]
  },
  {
   "cell_type": "code",
   "execution_count": 23,
   "metadata": {},
   "outputs": [
    {
     "name": "stderr",
     "output_type": "stream",
     "text": [
      "/Applications/anaconda3/lib/python3.6/site-packages/tensorflow/python/framework/dtypes.py:516: FutureWarning: Passing (type, 1) or '1type' as a synonym of type is deprecated; in a future version of numpy, it will be understood as (type, (1,)) / '(1,)type'.\n",
      "  _np_qint8 = np.dtype([(\"qint8\", np.int8, 1)])\n",
      "/Applications/anaconda3/lib/python3.6/site-packages/tensorflow/python/framework/dtypes.py:517: FutureWarning: Passing (type, 1) or '1type' as a synonym of type is deprecated; in a future version of numpy, it will be understood as (type, (1,)) / '(1,)type'.\n",
      "  _np_quint8 = np.dtype([(\"quint8\", np.uint8, 1)])\n",
      "/Applications/anaconda3/lib/python3.6/site-packages/tensorflow/python/framework/dtypes.py:518: FutureWarning: Passing (type, 1) or '1type' as a synonym of type is deprecated; in a future version of numpy, it will be understood as (type, (1,)) / '(1,)type'.\n",
      "  _np_qint16 = np.dtype([(\"qint16\", np.int16, 1)])\n",
      "/Applications/anaconda3/lib/python3.6/site-packages/tensorflow/python/framework/dtypes.py:519: FutureWarning: Passing (type, 1) or '1type' as a synonym of type is deprecated; in a future version of numpy, it will be understood as (type, (1,)) / '(1,)type'.\n",
      "  _np_quint16 = np.dtype([(\"quint16\", np.uint16, 1)])\n",
      "/Applications/anaconda3/lib/python3.6/site-packages/tensorflow/python/framework/dtypes.py:520: FutureWarning: Passing (type, 1) or '1type' as a synonym of type is deprecated; in a future version of numpy, it will be understood as (type, (1,)) / '(1,)type'.\n",
      "  _np_qint32 = np.dtype([(\"qint32\", np.int32, 1)])\n",
      "/Applications/anaconda3/lib/python3.6/site-packages/tensorflow/python/framework/dtypes.py:525: FutureWarning: Passing (type, 1) or '1type' as a synonym of type is deprecated; in a future version of numpy, it will be understood as (type, (1,)) / '(1,)type'.\n",
      "  np_resource = np.dtype([(\"resource\", np.ubyte, 1)])\n",
      "/Applications/anaconda3/lib/python3.6/site-packages/tensorboard/compat/tensorflow_stub/dtypes.py:541: FutureWarning: Passing (type, 1) or '1type' as a synonym of type is deprecated; in a future version of numpy, it will be understood as (type, (1,)) / '(1,)type'.\n",
      "  _np_qint8 = np.dtype([(\"qint8\", np.int8, 1)])\n",
      "/Applications/anaconda3/lib/python3.6/site-packages/tensorboard/compat/tensorflow_stub/dtypes.py:542: FutureWarning: Passing (type, 1) or '1type' as a synonym of type is deprecated; in a future version of numpy, it will be understood as (type, (1,)) / '(1,)type'.\n",
      "  _np_quint8 = np.dtype([(\"quint8\", np.uint8, 1)])\n",
      "/Applications/anaconda3/lib/python3.6/site-packages/tensorboard/compat/tensorflow_stub/dtypes.py:543: FutureWarning: Passing (type, 1) or '1type' as a synonym of type is deprecated; in a future version of numpy, it will be understood as (type, (1,)) / '(1,)type'.\n",
      "  _np_qint16 = np.dtype([(\"qint16\", np.int16, 1)])\n",
      "/Applications/anaconda3/lib/python3.6/site-packages/tensorboard/compat/tensorflow_stub/dtypes.py:544: FutureWarning: Passing (type, 1) or '1type' as a synonym of type is deprecated; in a future version of numpy, it will be understood as (type, (1,)) / '(1,)type'.\n",
      "  _np_quint16 = np.dtype([(\"quint16\", np.uint16, 1)])\n",
      "/Applications/anaconda3/lib/python3.6/site-packages/tensorboard/compat/tensorflow_stub/dtypes.py:545: FutureWarning: Passing (type, 1) or '1type' as a synonym of type is deprecated; in a future version of numpy, it will be understood as (type, (1,)) / '(1,)type'.\n",
      "  _np_qint32 = np.dtype([(\"qint32\", np.int32, 1)])\n",
      "/Applications/anaconda3/lib/python3.6/site-packages/tensorboard/compat/tensorflow_stub/dtypes.py:550: FutureWarning: Passing (type, 1) or '1type' as a synonym of type is deprecated; in a future version of numpy, it will be understood as (type, (1,)) / '(1,)type'.\n",
      "  np_resource = np.dtype([(\"resource\", np.ubyte, 1)])\n"
     ]
    }
   ],
   "source": [
    "import tensorflow as tf\n",
    "num_epochs = 10\n",
    "outputs= []\n",
    "for epoch in range(num_epochs):\n",
    "    for (img, _) in train_loader:\n",
    "        img = img.reshape(-1,28*28)\n",
    "        \n",
    "        recon = model(img)\n",
    "        #loss = criterion(recon,img)\n",
    "        inn = img.detach().numpy()\n",
    "        outt = recon.detach().numpy()\n",
    "        \n",
    "        loss = tf.reduce_sum(tf.square(inn - outt)) \n",
    "        \n",
    "        optimizer.zero_grad()\n",
    "        \n",
    "        #loss.backward()\n",
    "        optimizer.step()\n",
    "    #outputs.append((epoch, img, recon))\n",
    "    outputs.append(recon)"
   ]
  },
  {
   "cell_type": "code",
   "execution_count": 24,
   "metadata": {},
   "outputs": [
    {
     "data": {
      "image/png": "[encoded data removed]",
      "text/plain": [
       "<Figure size 576x576 with 3 Axes>"
      ]
     },
     "metadata": {
      "needs_background": "light"
     },
     "output_type": "display_data"
    }
   ],
   "source": [
    "imgs = outputs[10-1].detach().numpy()\n",
    "imgs = imgs.reshape(-1, 28,28)\n",
    "\n",
    "\n",
    "figure = plt.figure(figsize=(8, 8))\n",
    "num_of_images = 3\n",
    "for index in range(1, num_of_images+1):\n",
    "    plt.subplot(4, 4, index)\n",
    "    plt.title('After, fly: ' + str(index))\n",
    "    plt.axis('off')\n",
    "    plt.imshow(imgs[index-1], cmap='gray_r')"
   ]
  },
  {
   "cell_type": "code",
   "execution_count": null,
   "metadata": {},
   "outputs": [],
   "source": []
  },
  {
   "cell_type": "code",
   "execution_count": null,
   "metadata": {},
   "outputs": [],
   "source": []
  },
  {
   "cell_type": "code",
   "execution_count": 25,
   "metadata": {},
   "outputs": [],
   "source": [
    "class Autoencoder(nn.Module):\n",
    "    def __init__(self):\n",
    "        super().__init__()\n",
    "        self.encoder = nn.Sequential(\n",
    "            #nn.Linear(28*28,1), #N, 19 -> N, 10\n",
    "            #nn.ReLU(),\n",
    "            #nn.Linear(8,4),\n",
    "            #nn.ReLU(),\n",
    "            #nn.Linear(4,2)\n",
    "            )\n",
    "        \n",
    "        \n",
    "        self.decoder = nn.Sequential(\n",
    "            #nn.Linear(2,4), #N, 19 -> N, 10\n",
    "            #nn.ReLU(),\n",
    "            #nn.Linear(4,8),\n",
    "            #nn.ReLU(),\n",
    "            #nn.Linear(1, 28*28),\n",
    "            #nn.Sigmoid()\n",
    "            )\n",
    "        \n",
    "    def forward(self,x):\n",
    "            encoded = self.encoder(x)\n",
    "            decoded = self.decoder(encoded)\n",
    "            return decoded"
   ]
  },
  {
   "cell_type": "code",
   "execution_count": null,
   "metadata": {},
   "outputs": [],
   "source": []
  }
 ],
 "metadata": {
  "kernelspec": {
   "display_name": "Python 3",
   "language": "python",
   "name": "python3"
  },
  "language_info": {
   "codemirror_mode": {
    "name": "ipython",
    "version": 3
   },
   "file_extension": ".py",
   "mimetype": "text/x-python",
   "name": "python",
   "nbconvert_exporter": "python",
   "pygments_lexer": "ipython3",
   "version": "3.6.10"
  }
 },
 "nbformat": 4,
 "nbformat_minor": 4
}
