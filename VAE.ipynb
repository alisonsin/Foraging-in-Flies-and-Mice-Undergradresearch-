{
 "cells": [
  {
   "cell_type": "code",
   "execution_count": 1,
   "metadata": {},
   "outputs": [],
   "source": [
    "import pandas as pd\n",
    "import numpy as np\n",
    "import matplotlib.pyplot as plt\n",
    "import traja"
   ]
  },
  {
   "cell_type": "code",
   "execution_count": 2,
   "metadata": {},
   "outputs": [],
   "source": [
    "data = np.load('newrawdata.npy',allow_pickle=True)\n",
    "flynum = data[1].shape[0] #384"
   ]
  },
  {
   "cell_type": "code",
   "execution_count": 3,
   "metadata": {},
   "outputs": [],
   "source": [
    "xcm = data[3] #x center of mass location #(384,)\n",
    "ycm = data[5]\n",
    "end_time = data[13]\n",
    "t_offset = 1.0/3.0 \n",
    "t = data[16] - t_offset"
   ]
  },
  {
   "cell_type": "code",
   "execution_count": 4,
   "metadata": {},
   "outputs": [],
   "source": [
    "# ? seconds before 1st meal -> 1st meal\n",
    "first_meal_end = np.array([end_time[i][0] for i in range(flynum)])\n",
    "\n",
    "# get that trajectory\n",
    "x_traj = []\n",
    "y_traj = []\n",
    "for i in range(flynum):\n",
    "    idx = (t[i] >= (first_meal_end[i])) & (t[i] <= (first_meal_end[i] + 5))   #5 seconds after 1st meal\n",
    "    x_traj.append(xcm[i][idx])\n",
    "    y_traj.append(ycm[i][idx])\n",
    "x_traj = np.array(x_traj,dtype=object)\n",
    "y_traj = np.array(y_traj,dtype=object)\n",
    "\n",
    "def traj(flyno):\n",
    "    return np.vstack((x_traj[flyno], y_traj[flyno]))"
   ]
  },
  {
   "cell_type": "code",
   "execution_count": 5,
   "metadata": {},
   "outputs": [],
   "source": [
    "from traja import TrajaCollection\n",
    "def create_df(flyno):\n",
    "    x_fly = traj(flyno)[0]\n",
    "    y_fly = traj(flyno)[1]\n",
    "    d = {'x': x_fly, 'y': y_fly}\n",
    "    df = pd.DataFrame(data=d)\n",
    "    df = traja.TrajaDataFrame(df)\n",
    "    return df\n",
    "\n",
    "# Create a dictionary of DataFrames, with 'id' as key.\n",
    "keys = np.arange(flynum)\n",
    "all_values = [] #create values - i.e. df for each fly\n",
    "for n in range(flynum):\n",
    "    all_values.append(create_df(n))\n",
    "\n",
    "df_all = {}\n",
    "for i in range(flynum):\n",
    "    df_all[i] = all_values[i]\n",
    "\n",
    "# Create a TrajaCollection df (x,y,id)\n",
    "trjs = TrajaCollection(df_all)\n",
    "\n",
    "trjs = trjs.rename({'id': 'ID'}, axis=1)"
   ]
  },
  {
   "cell_type": "code",
   "execution_count": 6,
   "metadata": {},
   "outputs": [
    {
     "data": {
      "text/html": [
       "<div>\n",
       "<style scoped>\n",
       "    .dataframe tbody tr th:only-of-type {\n",
       "        vertical-align: middle;\n",
       "    }\n",
       "\n",
       "    .dataframe tbody tr th {\n",
       "        vertical-align: top;\n",
       "    }\n",
       "\n",
       "    .dataframe thead th {\n",
       "        text-align: right;\n",
       "    }\n",
       "</style>\n",
       "<table border=\"1\" class=\"dataframe\">\n",
       "  <thead>\n",
       "    <tr style=\"text-align: right;\">\n",
       "      <th></th>\n",
       "      <th>x</th>\n",
       "      <th>y</th>\n",
       "      <th>ID</th>\n",
       "    </tr>\n",
       "  </thead>\n",
       "  <tbody>\n",
       "    <tr>\n",
       "      <th>0</th>\n",
       "      <td>-0.111696</td>\n",
       "      <td>0.217172</td>\n",
       "      <td>0</td>\n",
       "    </tr>\n",
       "    <tr>\n",
       "      <th>1</th>\n",
       "      <td>-0.111158</td>\n",
       "      <td>0.217525</td>\n",
       "      <td>0</td>\n",
       "    </tr>\n",
       "    <tr>\n",
       "      <th>2</th>\n",
       "      <td>-0.110690</td>\n",
       "      <td>0.217826</td>\n",
       "      <td>0</td>\n",
       "    </tr>\n",
       "    <tr>\n",
       "      <th>3</th>\n",
       "      <td>-0.110300</td>\n",
       "      <td>0.218071</td>\n",
       "      <td>0</td>\n",
       "    </tr>\n",
       "    <tr>\n",
       "      <th>4</th>\n",
       "      <td>-0.109992</td>\n",
       "      <td>0.218255</td>\n",
       "      <td>0</td>\n",
       "    </tr>\n",
       "    <tr>\n",
       "      <th>...</th>\n",
       "      <td>...</td>\n",
       "      <td>...</td>\n",
       "      <td>...</td>\n",
       "    </tr>\n",
       "    <tr>\n",
       "      <th>145</th>\n",
       "      <td>0.039151</td>\n",
       "      <td>0.085286</td>\n",
       "      <td>383</td>\n",
       "    </tr>\n",
       "    <tr>\n",
       "      <th>146</th>\n",
       "      <td>0.039080</td>\n",
       "      <td>0.085352</td>\n",
       "      <td>383</td>\n",
       "    </tr>\n",
       "    <tr>\n",
       "      <th>147</th>\n",
       "      <td>0.039010</td>\n",
       "      <td>0.085426</td>\n",
       "      <td>383</td>\n",
       "    </tr>\n",
       "    <tr>\n",
       "      <th>148</th>\n",
       "      <td>0.038941</td>\n",
       "      <td>0.085506</td>\n",
       "      <td>383</td>\n",
       "    </tr>\n",
       "    <tr>\n",
       "      <th>149</th>\n",
       "      <td>0.038872</td>\n",
       "      <td>0.085593</td>\n",
       "      <td>383</td>\n",
       "    </tr>\n",
       "  </tbody>\n",
       "</table>\n",
       "<p>57604 rows × 3 columns</p>\n",
       "</div>"
      ],
      "text/plain": [
       "TrajaCollection:\n",
       "            x         y   ID\n",
       "0   -0.111696  0.217172    0\n",
       "1   -0.111158  0.217525    0\n",
       "2   -0.110690  0.217826    0\n",
       "3   -0.110300  0.218071    0\n",
       "4   -0.109992  0.218255    0\n",
       "..        ...       ...  ...\n",
       "145  0.039151  0.085286  383\n",
       "146  0.039080  0.085352  383\n",
       "147  0.039010  0.085426  383\n",
       "148  0.038941  0.085506  383\n",
       "149  0.038872  0.085593  383\n",
       "\n",
       "[57604 rows x 3 columns]"
      ]
     },
     "execution_count": 6,
     "metadata": {},
     "output_type": "execute_result"
    }
   ],
   "source": [
    "trjs"
   ]
  },
  {
   "cell_type": "code",
   "execution_count": 7,
   "metadata": {},
   "outputs": [],
   "source": [
    "batch_size = 10 # How many sequences to train every step. Constrained by GPU memory.\n",
    "num_past = 8 # How many time steps from which to learn the time series\n",
    "num_future = 8 # How many time steps to predict\n",
    "split_by_id = False "
   ]
  },
  {
   "cell_type": "code",
   "execution_count": 8,
   "metadata": {},
   "outputs": [],
   "source": [
    "df_used = trjs\n",
    "\n",
    "dataloaders = traja.dataset.MultiModalDataLoader(df_used, batch_size=batch_size, n_past=num_past,\n",
    "n_future=num_future, num_workers=0, split_by_id=split_by_id)"
   ]
  },
  {
   "cell_type": "code",
   "execution_count": 9,
   "metadata": {},
   "outputs": [],
   "source": [
    "from traja.models.predictive_models.lstm import LSTM\n",
    "input_size = 2 # Number of input dimensions (normally x, y)\n",
    "output_size = 2 # Same as input_size when predicting\n",
    "num_layers = 2 # Number of LSTM layers. Deeper learns more complex patterns but overfits.\n",
    "hidden_size = 32 # Width of layers. Wider learns bigger patterns but overfits. Try 32, 64, 128, 256, 512\n",
    "dropout = 0.1 # Ignore some network connections. Improves generalisation.\n",
    "\n",
    "\n",
    "model = LSTM(input_size=input_size,\n",
    "             hidden_size=hidden_size,\n",
    "             num_layers=num_layers,\n",
    "             output_size=output_size,\n",
    "             dropout=dropout,\n",
    "             batch_size=batch_size)"
   ]
  },
  {
   "cell_type": "code",
   "execution_count": 10,
   "metadata": {},
   "outputs": [
    {
     "name": "stdout",
     "output_type": "stream",
     "text": [
      "Epoch 1 | forecasting loss 0.23712600767612457\n",
      "Epoch 2 | forecasting loss 0.06041974574327469\n",
      "Epoch 3 | forecasting loss 0.032953400164842606\n",
      "Epoch 4 | forecasting loss 0.021218130365014076\n",
      "Epoch 5 | forecasting loss 0.014141074381768703\n",
      "Epoch 6 | forecasting loss 0.011484170332551003\n",
      "Epoch 7 | forecasting loss 0.009829467162489891\n",
      "Epoch 8 | forecasting loss 0.00823614839464426\n",
      "Epoch 9 | forecasting loss 0.007301200181245804\n",
      "====> Mean Test set forecasting loss: 0.0062\n",
      "Epoch 10 | forecasting loss 0.006511840969324112\n",
      "Model and hyperparameters saved at /Users/alisonsin/Desktop/thesis/fly\n"
     ]
    }
   ],
   "source": [
    "from traja.models.train import HybridTrainer\n",
    "\n",
    "optimizer_type = 'Adam' # Nonlinear optimiser with momentum\n",
    "loss_type = 'huber'\n",
    "\n",
    "# Trainer\n",
    "trainer = HybridTrainer(model=model,\n",
    "                        optimizer_type=optimizer_type,\n",
    "                        loss_type=loss_type)\n",
    "# Train the model\n",
    "trainer.fit(dataloaders, model_save_path='./model.pt', epochs=10, training_mode='forecasting')"
   ]
  },
  {
   "cell_type": "code",
   "execution_count": 11,
   "metadata": {},
   "outputs": [
    {
     "name": "stdout",
     "output_type": "stream",
     "text": [
      "====> Mean Validation set generator loss: 0.0265\n"
     ]
    },
    {
     "data": {
      "text/plain": [
       "(0.02647227254055906, 0.0, 0.0)"
      ]
     },
     "execution_count": 11,
     "metadata": {},
     "output_type": "execute_result"
    }
   ],
   "source": [
    "validation_loader = dataloaders['sequential_validation_loader']\n",
    "trainer.validate(validation_loader)"
   ]
  },
  {
   "cell_type": "code",
   "execution_count": 12,
   "metadata": {},
   "outputs": [
    {
     "data": {
      "image/png": "[encoded data removed]",
      "text/plain": [
       "<Figure size 720x720 with 2 Axes>"
      ]
     },
     "metadata": {
      "needs_background": "light"
     },
     "output_type": "display_data"
    }
   ],
   "source": [
    "from traja.plotting import plot_prediction\n",
    "batch_index = 0\n",
    "plot_prediction(model, validation_loader, batch_index)"
   ]
  },
  {
   "cell_type": "code",
   "execution_count": null,
   "metadata": {},
   "outputs": [],
   "source": []
  },
  {
   "cell_type": "code",
   "execution_count": 13,
   "metadata": {},
   "outputs": [],
   "source": [
    "import torch\n",
    "import torchvision\n",
    "import torch.optim as optim\n",
    "import argparse\n",
    "import matplotlib\n",
    "import torch.nn as nn\n",
    "import matplotlib.pyplot as plt\n",
    "import torchvision.transforms as transforms\n",
    "import pandas as pd\n",
    "\n",
    "\n",
    "from tqdm import tqdm\n",
    "from torchvision import datasets\n",
    "from torch.utils.data import DataLoader\n",
    "from torchvision.utils import save_image\n",
    "\n",
    "from CustomDataset import customdataset"
   ]
  },
  {
   "cell_type": "code",
   "execution_count": 14,
   "metadata": {},
   "outputs": [],
   "source": [
    "#Set device\n",
    "device = torch.device('cuda' if torch.cuda.is_available() else 'cpu')"
   ]
  },
  {
   "cell_type": "code",
   "execution_count": 15,
   "metadata": {},
   "outputs": [],
   "source": [
    "#Creating train_csv\n",
    "train_df = pd.DataFrame(columns=[\"img_name\",\"label\"])\n",
    "train_df[\"img_name\"] = ['fly_0.jpg','fly_1.jpg','fly_2.jpg','fly_3.jpg',\n",
    "                        'fly_4.jpg','fly_5.jpg','fly_6.jpg','fly_7.jpg',\n",
    "                        'fly_8.jpg','fly_9.jpg']\n",
    "train_df[\"label\"] = [1,1,1,1,1,1,1,1,1,1]\n",
    "train_df.to_csv (r'train_csv.csv', index = False, header=True)"
   ]
  },
  {
   "cell_type": "code",
   "execution_count": 16,
   "metadata": {},
   "outputs": [],
   "source": [
    "transform = transforms.Compose([transforms.ToTensor(),\n",
    "                                transforms.Normalize((0.5),(0.5))])"
   ]
  },
  {
   "cell_type": "code",
   "execution_count": 17,
   "metadata": {},
   "outputs": [],
   "source": [
    "#Load data\n",
    "dataset = customdataset(csv_file = '/Users/alisonsin/Desktop/thesis/fly/train_csv.csv',\n",
    "                       root_dir = '/Users/alisonsin/Desktop/thesis/fly/fly_img', #of image\n",
    "                       transform = transform)"
   ]
  },
  {
   "cell_type": "code",
   "execution_count": 18,
   "metadata": {},
   "outputs": [],
   "source": [
    "train_set, test_set = torch.utils.data.random_split(dataset, [3,7])\n",
    "\n",
    "train_loader = DataLoader(dataset = train_set, batch_size = 3, shuffle=True)\n",
    "test_loader = DataLoader(dataset = test_set, batch_size = 3, shuffle=True)"
   ]
  },
  {
   "cell_type": "code",
   "execution_count": 19,
   "metadata": {},
   "outputs": [
    {
     "name": "stdout",
     "output_type": "stream",
     "text": [
      "tensor(-0.0017) tensor(0.0039)\n",
      "torch.Size([3, 1, 28, 28]) torch.Size([3])\n"
     ]
    }
   ],
   "source": [
    "dataiter = iter(train_loader)\n",
    "images, labels = dataiter.next()\n",
    "images = images[:, :1, :,:]/255 #BandW\n",
    "print(torch.min(images), torch.max(images))\n",
    "print(images.shape, labels.shape)  #3 images, 1 channel, 28*28 pixel"
   ]
  },
  {
   "cell_type": "markdown",
   "metadata": {},
   "source": [
    "## Before being inside Encoder"
   ]
  },
  {
   "cell_type": "code",
   "execution_count": 20,
   "metadata": {},
   "outputs": [
    {
     "data": {
      "image/png": "[encoded data removed]",
      "text/plain": [
       "<Figure size 576x576 with 3 Axes>"
      ]
     },
     "metadata": {
      "needs_background": "light"
     },
     "output_type": "display_data"
    }
   ],
   "source": [
    "figure = plt.figure(figsize=(8, 8))\n",
    "num_of_images = 3\n",
    "for index in range(1, num_of_images+1):\n",
    "    plt.subplot(4, 4, index)\n",
    "    plt.axis('off')\n",
    "    plt.tight_layout()\n",
    "    plt.title('Before, fly: ' + str(index))\n",
    "    plt.imshow(images[index-1].numpy().squeeze(), cmap='gray_r')"
   ]
  },
  {
   "cell_type": "code",
   "execution_count": 21,
   "metadata": {},
   "outputs": [],
   "source": [
    "class Autoencoder(nn.Module):\n",
    "    def __init__(self):\n",
    "        super().__init__()\n",
    "        self.encoder = nn.Sequential(\n",
    "            nn.Linear(28*28,1) #N, 19 -> N, 10\n",
    "            )\n",
    "        self.decoder = nn.Sequential(\n",
    "            nn.Linear(1, 28*28),\n",
    "            nn.Sigmoid()\n",
    "            )\n",
    "        \n",
    "    def forward(self,x):\n",
    "            encoded = self.encoder(x)\n",
    "            decoded = self.decoder(encoded)\n",
    "            return decoded"
   ]
  },
  {
   "cell_type": "code",
   "execution_count": 22,
   "metadata": {},
   "outputs": [],
   "source": [
    "model = Autoencoder()\n",
    "criterion = nn.MSELoss() \n",
    "optimizer = torch.optim.Adam(model.parameters(),lr = 0.001)"
   ]
  },
  {
   "cell_type": "code",
   "execution_count": 23,
   "metadata": {},
   "outputs": [
    {
     "name": "stderr",
     "output_type": "stream",
     "text": [
      "/Applications/anaconda3/lib/python3.6/site-packages/tensorflow/python/framework/dtypes.py:516: FutureWarning: Passing (type, 1) or '1type' as a synonym of type is deprecated; in a future version of numpy, it will be understood as (type, (1,)) / '(1,)type'.\n",
      "  _np_qint8 = np.dtype([(\"qint8\", np.int8, 1)])\n",
      "/Applications/anaconda3/lib/python3.6/site-packages/tensorflow/python/framework/dtypes.py:517: FutureWarning: Passing (type, 1) or '1type' as a synonym of type is deprecated; in a future version of numpy, it will be understood as (type, (1,)) / '(1,)type'.\n",
      "  _np_quint8 = np.dtype([(\"quint8\", np.uint8, 1)])\n",
      "/Applications/anaconda3/lib/python3.6/site-packages/tensorflow/python/framework/dtypes.py:518: FutureWarning: Passing (type, 1) or '1type' as a synonym of type is deprecated; in a future version of numpy, it will be understood as (type, (1,)) / '(1,)type'.\n",
      "  _np_qint16 = np.dtype([(\"qint16\", np.int16, 1)])\n",
      "/Applications/anaconda3/lib/python3.6/site-packages/tensorflow/python/framework/dtypes.py:519: FutureWarning: Passing (type, 1) or '1type' as a synonym of type is deprecated; in a future version of numpy, it will be understood as (type, (1,)) / '(1,)type'.\n",
      "  _np_quint16 = np.dtype([(\"quint16\", np.uint16, 1)])\n",
      "/Applications/anaconda3/lib/python3.6/site-packages/tensorflow/python/framework/dtypes.py:520: FutureWarning: Passing (type, 1) or '1type' as a synonym of type is deprecated; in a future version of numpy, it will be understood as (type, (1,)) / '(1,)type'.\n",
      "  _np_qint32 = np.dtype([(\"qint32\", np.int32, 1)])\n",
      "/Applications/anaconda3/lib/python3.6/site-packages/tensorflow/python/framework/dtypes.py:525: FutureWarning: Passing (type, 1) or '1type' as a synonym of type is deprecated; in a future version of numpy, it will be understood as (type, (1,)) / '(1,)type'.\n",
      "  np_resource = np.dtype([(\"resource\", np.ubyte, 1)])\n",
      "/Applications/anaconda3/lib/python3.6/site-packages/tensorboard/compat/tensorflow_stub/dtypes.py:541: FutureWarning: Passing (type, 1) or '1type' as a synonym of type is deprecated; in a future version of numpy, it will be understood as (type, (1,)) / '(1,)type'.\n",
      "  _np_qint8 = np.dtype([(\"qint8\", np.int8, 1)])\n",
      "/Applications/anaconda3/lib/python3.6/site-packages/tensorboard/compat/tensorflow_stub/dtypes.py:542: FutureWarning: Passing (type, 1) or '1type' as a synonym of type is deprecated; in a future version of numpy, it will be understood as (type, (1,)) / '(1,)type'.\n",
      "  _np_quint8 = np.dtype([(\"quint8\", np.uint8, 1)])\n",
      "/Applications/anaconda3/lib/python3.6/site-packages/tensorboard/compat/tensorflow_stub/dtypes.py:543: FutureWarning: Passing (type, 1) or '1type' as a synonym of type is deprecated; in a future version of numpy, it will be understood as (type, (1,)) / '(1,)type'.\n",
      "  _np_qint16 = np.dtype([(\"qint16\", np.int16, 1)])\n",
      "/Applications/anaconda3/lib/python3.6/site-packages/tensorboard/compat/tensorflow_stub/dtypes.py:544: FutureWarning: Passing (type, 1) or '1type' as a synonym of type is deprecated; in a future version of numpy, it will be understood as (type, (1,)) / '(1,)type'.\n",
      "  _np_quint16 = np.dtype([(\"quint16\", np.uint16, 1)])\n",
      "/Applications/anaconda3/lib/python3.6/site-packages/tensorboard/compat/tensorflow_stub/dtypes.py:545: FutureWarning: Passing (type, 1) or '1type' as a synonym of type is deprecated; in a future version of numpy, it will be understood as (type, (1,)) / '(1,)type'.\n",
      "  _np_qint32 = np.dtype([(\"qint32\", np.int32, 1)])\n",
      "/Applications/anaconda3/lib/python3.6/site-packages/tensorboard/compat/tensorflow_stub/dtypes.py:550: FutureWarning: Passing (type, 1) or '1type' as a synonym of type is deprecated; in a future version of numpy, it will be understood as (type, (1,)) / '(1,)type'.\n",
      "  np_resource = np.dtype([(\"resource\", np.ubyte, 1)])\n"
     ]
    }
   ],
   "source": [
    "import tensorflow as tf\n",
    "num_epochs = 10\n",
    "outputs= []\n",
    "for epoch in range(num_epochs):\n",
    "    for (img, _) in train_loader:\n",
    "        img = img.reshape(-1,28*28)\n",
    "        \n",
    "        recon = model(img)\n",
    "        #loss = criterion(recon,img)\n",
    "        inn = img.detach().numpy()\n",
    "        outt = recon.detach().numpy()\n",
    "        \n",
    "        loss = tf.reduce_sum(tf.square(inn - outt)) \n",
    "        \n",
    "        optimizer.zero_grad()\n",
    "        \n",
    "        #loss.backward()\n",
    "        optimizer.step()\n",
    "    #outputs.append((epoch, img, recon))\n",
    "    outputs.append(recon)"
   ]
  },
  {
   "cell_type": "code",
   "execution_count": 24,
   "metadata": {},
   "outputs": [
    {
     "data": {
      "image/png": "[encoded data removed]",
      "text/plain": [
       "<Figure size 576x576 with 3 Axes>"
      ]
     },
     "metadata": {
      "needs_background": "light"
     },
     "output_type": "display_data"
    }
   ],
   "source": [
    "imgs = outputs[10-1].detach().numpy()\n",
    "imgs = imgs.reshape(-1, 28,28)\n",
    "\n",
    "\n",
    "figure = plt.figure(figsize=(8, 8))\n",
    "num_of_images = 3\n",
    "for index in range(1, num_of_images+1):\n",
    "    plt.subplot(4, 4, index)\n",
    "    plt.title('After, fly: ' + str(index))\n",
    "    plt.axis('off')\n",
    "    plt.imshow(imgs[index-1], cmap='gray_r')"
   ]
  },
  {
   "cell_type": "code",
   "execution_count": null,
   "metadata": {},
   "outputs": [],
   "source": []
  },
  {
   "cell_type": "code",
   "execution_count": null,
   "metadata": {},
   "outputs": [],
   "source": []
  },
  {
   "cell_type": "code",
   "execution_count": 25,
   "metadata": {},
   "outputs": [],
   "source": [
    "class Autoencoder(nn.Module):\n",
    "    def __init__(self):\n",
    "        super().__init__()\n",
    "        self.encoder = nn.Sequential(\n",
    "            #nn.Linear(28*28,1), #N, 19 -> N, 10\n",
    "            #nn.ReLU(),\n",
    "            #nn.Linear(8,4),\n",
    "            #nn.ReLU(),\n",
    "            #nn.Linear(4,2)\n",
    "            )\n",
    "        \n",
    "        \n",
    "        self.decoder = nn.Sequential(\n",
    "            #nn.Linear(2,4), #N, 19 -> N, 10\n",
    "            #nn.ReLU(),\n",
    "            #nn.Linear(4,8),\n",
    "            #nn.ReLU(),\n",
    "            #nn.Linear(1, 28*28),\n",
    "            #nn.Sigmoid()\n",
    "            )\n",
    "        \n",
    "    def forward(self,x):\n",
    "            encoded = self.encoder(x)\n",
    "            decoded = self.decoder(encoded)\n",
    "            return decoded"
   ]
  },
  {
   "cell_type": "code",
   "execution_count": null,
   "metadata": {},
   "outputs": [],
   "source": []
  }
 ],
 "metadata": {
  "kernelspec": {
   "display_name": "Python 3",
   "language": "python",
   "name": "python3"
  },
  "language_info": {
   "codemirror_mode": {
    "name": "ipython",
    "version": 3
   },
   "file_extension": ".py",
   "mimetype": "text/x-python",
   "name": "python",
   "nbconvert_exporter": "python",
   "pygments_lexer": "ipython3",
   "version": "3.6.10"
  }
 },
 "nbformat": 4,
 "nbformat_minor": 4
}
