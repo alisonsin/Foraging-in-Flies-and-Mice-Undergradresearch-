{
 "cells": [
  {
   "cell_type": "code",
   "execution_count": 1,
   "metadata": {},
   "outputs": [],
   "source": [
    "import pandas as pd\n",
    "import numpy as np\n",
    "import matplotlib.pyplot as plt\n",
    "import traja"
   ]
  },
  {
   "cell_type": "markdown",
   "metadata": {},
   "source": [
    "## Load Data"
   ]
  },
  {
   "cell_type": "markdown",
   "metadata": {},
   "source": [
    "f_name, 0 \n",
    "food_type, 1 \n",
    "starve_period, 2 \n",
    "xcm, 3 \n",
    "xcm_dot,\n",
    "ycm,\n",
    "ycm_dot,\n",
    "num_meals, 7 \n",
    "tot_vol,\n",
    "dur_eating, \n",
    "eat_latency, 10\n",
    "meal_num,\n",
    "start_time, 12\n",
    "end_time, 13\n",
    "meal_dur,\n",
    "meal_vol, 15\n",
    "t, 16"
   ]
  },
  {
   "cell_type": "code",
   "execution_count": 2,
   "metadata": {},
   "outputs": [],
   "source": [
    "data = np.load('newrawdata.npy',allow_pickle=True)\n",
    "flynum = data[1].shape[0] #384"
   ]
  },
  {
   "cell_type": "code",
   "execution_count": 3,
   "metadata": {},
   "outputs": [],
   "source": [
    "food_type = data[1]\n",
    "starve_period = data[2]\n",
    "\n",
    "xcm = data[3] #x center of mass location\n",
    "ycm = data[5]\n",
    "end_time = data[13]\n",
    "\n",
    "meal_vol = data[15]\n",
    "\n",
    "t_offset = 1.0/3.0 \n",
    "t = data[16] - t_offset"
   ]
  },
  {
   "cell_type": "markdown",
   "metadata": {},
   "source": [
    "## Trajectory Calculations"
   ]
  },
  {
   "cell_type": "code",
   "execution_count": 4,
   "metadata": {},
   "outputs": [],
   "source": [
    "# ? seconds before 1st meal -> 1st meal\n",
    "first_meal_end = np.array([end_time[i][0] for i in range(flynum)])\n",
    "\n",
    "# get that trajectory\n",
    "x_traj = []\n",
    "y_traj = []\n",
    "for i in range(flynum):\n",
    "    idx = (t[i] >= (first_meal_end[i])) & (t[i] <= (first_meal_end[i] + 5))   #5 seconds after 1st meal\n",
    "    x_traj.append(xcm[i][idx])\n",
    "    y_traj.append(ycm[i][idx])\n",
    "x_traj = np.array(x_traj,dtype=object)\n",
    "y_traj = np.array(y_traj,dtype=object)\n",
    "\n",
    "def traj(flyno):\n",
    "    return np.vstack((x_traj[flyno], y_traj[flyno]))"
   ]
  },
  {
   "cell_type": "code",
   "execution_count": 5,
   "metadata": {},
   "outputs": [],
   "source": [
    "from traja import TrajaCollection\n",
    "def create_df(flyno):\n",
    "    x_fly = traj(flyno)[0]\n",
    "    y_fly = traj(flyno)[1]\n",
    "    d = {'x': x_fly, 'y': y_fly}\n",
    "    df = pd.DataFrame(data=d)\n",
    "    df = traja.TrajaDataFrame(df)\n",
    "    return df\n",
    "\n",
    "# Create a dictionary of DataFrames, with 'id' as key.\n",
    "keys = np.arange(flynum)\n",
    "all_values = [] #create values - i.e. df for each fly\n",
    "for n in range(flynum):\n",
    "    all_values.append(create_df(n))\n",
    "\n",
    "df_all = {}\n",
    "for i in range(flynum):\n",
    "    df_all[i] = all_values[i]\n",
    "\n",
    "# Create a TrajaCollection df (x,y,id)\n",
    "trjs = TrajaCollection(df_all)\n",
    "\n"
   ]
  },
  {
   "cell_type": "markdown",
   "metadata": {},
   "source": [
    "### Calculating Straightness (path / distance)"
   ]
  },
  {
   "cell_type": "code",
   "execution_count": 6,
   "metadata": {},
   "outputs": [],
   "source": [
    "import math\n",
    "def calculate_distance(starting_x, starting_y, destination_x, destination_y):\n",
    "    distance = math.hypot(destination_x - starting_x, destination_y - starting_y)  # calculates Euclidean distance (straight-line) distance between two points\n",
    "    return np.abs(distance)\n",
    "\n",
    "def calculate_path(selected_map):\n",
    "    total_distance = 0\n",
    "    current_point = selected_map[0]\n",
    "    for next_point in selected_map[1:]:\n",
    "        current_distance = calculate_distance(\n",
    "            current_point[0], current_point[1],\n",
    "            next_point[0], next_point[1])\n",
    "        total_distance += current_distance\n",
    "        current_point = next_point\n",
    "    return total_distance"
   ]
  },
  {
   "cell_type": "code",
   "execution_count": 7,
   "metadata": {},
   "outputs": [],
   "source": [
    "def all_straightness():\n",
    "    str_all = []\n",
    "    for i in range(flynum):\n",
    "        flytraj = traj(i)\n",
    "        x, y = flytraj \n",
    "        d = calculate_distance(x[0], y[0], x[-1], y[-1])\n",
    "        path = calculate_path(flytraj.T)\n",
    "        straightness = path/d\n",
    "        str_all.append(straightness)\n",
    "    return np.array(str_all)"
   ]
  },
  {
   "cell_type": "markdown",
   "metadata": {},
   "source": [
    "### Velocity"
   ]
  },
  {
   "cell_type": "code",
   "execution_count": 8,
   "metadata": {},
   "outputs": [],
   "source": [
    "fly_tra = traj(0)\n",
    "def velocity(fly_tra):\n",
    "    x, y = fly_tra\n",
    "    velo = [0]\n",
    "    for i in range(len(x)-1):\n",
    "        d = calculate_distance(x[i], y[i], x[i+1], y[i+1])\n",
    "        v = d/1\n",
    "        velo.append(v)\n",
    "    return np.array(velo)"
   ]
  },
  {
   "cell_type": "code",
   "execution_count": 9,
   "metadata": {},
   "outputs": [],
   "source": [
    "def all_velocity():\n",
    "    all_v = []\n",
    "    for i in range(flynum):\n",
    "        flytraj = traj(i)\n",
    "        a = velocity(flytraj)\n",
    "        all_v.append(a)\n",
    "    return np.array(all_v,dtype=object)"
   ]
  },
  {
   "cell_type": "markdown",
   "metadata": {},
   "source": [
    "## X - Features"
   ]
  },
  {
   "cell_type": "code",
   "execution_count": 10,
   "metadata": {},
   "outputs": [],
   "source": [
    "#Fast time\n",
    "x1_starve_period= starve_period \n",
    "#Value of Food\n",
    "un_food_type = food_type\n",
    "\n",
    "x2_food_type = np.zeros(un_food_type.shape)\n",
    "for n, ft in enumerate(un_food_type):\n",
    "    if ft == '1000mM':\n",
    "        x2_food_type[n] = 0\n",
    "    if ft == '100mM':\n",
    "        x2_food_type[n] = 1\n",
    "    if ft == '10mM':\n",
    "        x2_food_type[n] = 2 \n",
    "    if ft == '1mM':\n",
    "        x2_food_type[n] = 3\n",
    "    if ft == 'water':\n",
    "        x2_food_type[n] = 4"
   ]
  },
  {
   "cell_type": "code",
   "execution_count": 11,
   "metadata": {},
   "outputs": [],
   "source": [
    "straightness_index = all_straightness() "
   ]
  },
  {
   "cell_type": "code",
   "execution_count": 12,
   "metadata": {},
   "outputs": [],
   "source": [
    "ve = all_velocity()\n",
    "avgve = []\n",
    "for i in range(flynum):\n",
    "    avg = np.mean(ve[i])\n",
    "    avgve.append(avg)\n",
    "avgve = np.array(avgve)"
   ]
  },
  {
   "cell_type": "markdown",
   "metadata": {},
   "source": [
    "## y - prediction"
   ]
  },
  {
   "cell_type": "code",
   "execution_count": 13,
   "metadata": {},
   "outputs": [],
   "source": [
    "#Volume of first bout \n",
    "vol_first = np.array([meal_vol[i][0] for i in range(flynum)])\n",
    "y = vol_first"
   ]
  },
  {
   "cell_type": "markdown",
   "metadata": {},
   "source": [
    "## kNN"
   ]
  },
  {
   "cell_type": "code",
   "execution_count": 29,
   "metadata": {},
   "outputs": [],
   "source": [
    "from sklearn.neighbors import KNeighborsRegressor\n",
    "from sklearn.linear_model import LinearRegression\n",
    "from sklearn.ensemble import StackingRegressor\n",
    "\n",
    "from sklearn.model_selection import train_test_split\n",
    "from sklearn.metrics import accuracy_score"
   ]
  },
  {
   "cell_type": "code",
   "execution_count": 26,
   "metadata": {},
   "outputs": [],
   "source": [
    "X = np.vstack([x1_starve_period, x2_food_type, straightness_index, avgve]).T"
   ]
  },
  {
   "cell_type": "code",
   "execution_count": 159,
   "metadata": {},
   "outputs": [],
   "source": [
    "X_trn, X_tst, y_trn, y_tst = train_test_split(X, y, test_size=0.20, random_state=12)"
   ]
  },
  {
   "cell_type": "code",
   "execution_count": 160,
   "metadata": {},
   "outputs": [
    {
     "name": "stdout",
     "output_type": "stream",
     "text": [
      "0.5737712025883854\n"
     ]
    }
   ],
   "source": [
    "knn = KNeighborsRegressor(n_neighbors=7).fit(X_trn, y_trn)\n",
    "print(knn.score(X_tst, y_tst))"
   ]
  },
  {
   "cell_type": "code",
   "execution_count": 122,
   "metadata": {},
   "outputs": [
    {
     "name": "stdout",
     "output_type": "stream",
     "text": [
      "KNeighborsRegressor(n_neighbors=7)\n",
      "Accuracy Score: 0.5737712025883854\n"
     ]
    }
   ],
   "source": [
    "print(knn)\n",
    "print('Accuracy Score: ' + str(knn.score(X_tst, y_tst)))"
   ]
  },
  {
   "cell_type": "code",
   "execution_count": 123,
   "metadata": {
    "scrolled": true
   },
   "outputs": [
    {
     "data": {
      "image/png": "[encoded data removed]",
      "text/plain": [
       "<Figure size 432x288 with 1 Axes>"
      ]
     },
     "metadata": {
      "needs_background": "light"
     },
     "output_type": "display_data"
    }
   ],
   "source": [
    "pred = knn.predict(X_tst)\n",
    "act = y_tst\n",
    "plt.title('Predicted First-bout volume ingested')\n",
    "plt.plot(pred,label='predicted volume', color = 'red')\n",
    "plt.plot(act,label='actual volume', color = 'k')\n",
    "plt.legend(ncol=2)\n",
    "plt.ylabel('volume (nl)')\n",
    "plt.xlabel('fly no.')\n",
    "plt.show()"
   ]
  }
 ],
 "metadata": {
  "kernelspec": {
   "display_name": "Python 3",
   "language": "python",
   "name": "python3"
  },
  "language_info": {
   "codemirror_mode": {
    "name": "ipython",
    "version": 3
   },
   "file_extension": ".py",
   "mimetype": "text/x-python",
   "name": "python",
   "nbconvert_exporter": "python",
   "pygments_lexer": "ipython3",
   "version": "3.6.10"
  }
 },
 "nbformat": 4,
 "nbformat_minor": 4
}
