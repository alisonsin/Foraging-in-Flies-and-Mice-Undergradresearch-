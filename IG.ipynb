{
 "cells": [
  {
   "cell_type": "code",
   "execution_count": 1,
   "metadata": {},
   "outputs": [],
   "source": [
    "import pandas as pd\n",
    "import numpy as np\n",
    "import matplotlib.pyplot as plt\n",
    "import traja"
   ]
  },
  {
   "cell_type": "markdown",
   "metadata": {},
   "source": [
    "## Load Data"
   ]
  },
  {
   "cell_type": "markdown",
   "metadata": {},
   "source": [
    "f_name, 0 \n",
    "food_type, 1 \n",
    "starve_period, 2 \n",
    "xcm, 3 \n",
    "xcm_dot,\n",
    "ycm,\n",
    "ycm_dot,\n",
    "num_meals, 7 \n",
    "tot_vol,\n",
    "dur_eating, \n",
    "eat_latency, 10\n",
    "meal_num,\n",
    "start_time, 12\n",
    "end_time, 13\n",
    "meal_dur,\n",
    "meal_vol, 15\n",
    "t, 16"
   ]
  },
  {
   "cell_type": "code",
   "execution_count": 2,
   "metadata": {},
   "outputs": [],
   "source": [
    "data = np.load('newrawdata.npy',allow_pickle=True)\n",
    "flynum = data[1].shape[0] #384"
   ]
  },
  {
   "cell_type": "code",
   "execution_count": 3,
   "metadata": {},
   "outputs": [],
   "source": [
    "food_type = data[1]\n",
    "starve_period = data[2]\n",
    "\n",
    "xcm = data[3] #x center of mass location\n",
    "ycm = data[5]\n",
    "end_time = data[13]\n",
    "\n",
    "meal_vol = data[15]\n",
    "\n",
    "t_offset = 1.0/3.0 \n",
    "t = data[16] - t_offset"
   ]
  },
  {
   "cell_type": "markdown",
   "metadata": {},
   "source": [
    "## Trajectory Calculations"
   ]
  },
  {
   "cell_type": "code",
   "execution_count": 4,
   "metadata": {},
   "outputs": [],
   "source": [
    "# ? seconds before 1st meal -> 1st meal\n",
    "first_meal_end = np.array([end_time[i][0] for i in range(flynum)])\n",
    "\n",
    "# get that trajectory\n",
    "x_traj = []\n",
    "y_traj = []\n",
    "for i in range(flynum):\n",
    "    idx = (t[i] >= (first_meal_end[i])) & (t[i] <= (first_meal_end[i] + 5))   #5 seconds after 1st meal\n",
    "    x_traj.append(xcm[i][idx])\n",
    "    y_traj.append(ycm[i][idx])\n",
    "x_traj = np.array(x_traj,dtype=object)\n",
    "y_traj = np.array(y_traj,dtype=object)\n",
    "\n",
    "def traj(flyno):\n",
    "    return np.vstack((x_traj[flyno], y_traj[flyno]))\n",
    "\n",
    "from traja import TrajaCollection\n",
    "def create_df(flyno):\n",
    "    x_fly = traj(flyno)[0]\n",
    "    y_fly = traj(flyno)[1]\n",
    "    d = {'x': x_fly, 'y': y_fly}\n",
    "    df = pd.DataFrame(data=d)\n",
    "    df = traja.TrajaDataFrame(df)\n",
    "    return df\n",
    "\n",
    "# Create a dictionary of DataFrames, with 'id' as key.\n",
    "keys = np.arange(flynum)\n",
    "all_values = [] #create values - i.e. df for each fly\n",
    "for n in range(flynum):\n",
    "    all_values.append(create_df(n))\n",
    "\n",
    "df_all = {}\n",
    "for i in range(flynum):\n",
    "    df_all[i] = all_values[i]\n",
    "\n",
    "# Create a TrajaCollection df (x,y,id)\n",
    "trjs = TrajaCollection(df_all)"
   ]
  },
  {
   "cell_type": "markdown",
   "metadata": {},
   "source": [
    "## Finding Conditions"
   ]
  },
  {
   "cell_type": "code",
   "execution_count": 5,
   "metadata": {},
   "outputs": [],
   "source": [
    "#By Foodtype\n",
    "mM1000 = np.where(food_type == '1000mM')[0] #(90,)\n",
    "mM100 = np.where(food_type == '100mM')[0]\n",
    "mM10 = np.where(food_type == '10mM')[0]\n",
    "mM1 = np.where(food_type == '1mM')[0]  #(48,)\n",
    "mMwater = np.where(food_type == 'water')[0]\n",
    "all_foodtype = [mM1000, mM100, mM10, mM1, mMwater]\n",
    "\n",
    "#By starvetime\n",
    "st_0 = np.where(starve_period == '0')[0]\n",
    "st_8 = np.where(starve_period == '8')[0]\n",
    "st_16 = np.where(starve_period == '16')[0]\n",
    "st_24 = np.where(starve_period == '24')[0]\n",
    "st_32 = np.where(starve_period == '32')[0]\n",
    "all_starvedtime = [st_0,st_8,st_16,st_24,st_32]\n",
    "\n",
    "#Volume of first bout \n",
    "vol_first = np.array([meal_vol[i][0] for i in range(flynum)])"
   ]
  },
  {
   "cell_type": "code",
   "execution_count": 6,
   "metadata": {},
   "outputs": [],
   "source": [
    "#Overlapping Conditions by starved time\n",
    "\n",
    "allcondition_st_0 = [np.intersect1d(st_0,i) for i in all_foodtype]\n",
    "allcondition_st_8 = [np.intersect1d(st_8,i) for i in all_foodtype]\n",
    "allcondition_st_16 = [np.intersect1d(st_16,i) for i in all_foodtype]\n",
    "allcondition_st_24 = [np.intersect1d(st_24,i) for i in all_foodtype]\n",
    "allcondition_st_32 = [np.intersect1d(st_32,i) for i in all_foodtype]"
   ]
  },
  {
   "cell_type": "code",
   "execution_count": 7,
   "metadata": {},
   "outputs": [],
   "source": [
    "#Overlapping Conditions by foodtype\n",
    "\n",
    "allcondition_1000 = [np.intersect1d(mM1000,i) for i in all_starvedtime]\n",
    "allcondition_100 = [np.intersect1d(mM100,i) for i in all_starvedtime]\n",
    "allcondition_10 = [np.intersect1d(mM10,i) for i in all_starvedtime]\n",
    "allcondition_1 = [np.intersect1d(mM1,i) for i in all_starvedtime]\n",
    "allcondition_water = [np.intersect1d(mMwater,i) for i in all_starvedtime]"
   ]
  },
  {
   "cell_type": "markdown",
   "metadata": {},
   "source": [
    "## Defining 3 states 5 seconds after 1st meal\n",
    "1.CW ; 2. CCW; 3. stop"
   ]
  },
  {
   "cell_type": "code",
   "execution_count": 8,
   "metadata": {},
   "outputs": [],
   "source": [
    "def cal_angle_5s(flynum):\n",
    "    angle = traja.calc_angle(trjs[trjs['id']==flynum])\n",
    "    turns = np.diff(angle) #diff in angle\n",
    "    turns[0]=0\n",
    "    \n",
    "    fivturns = []\n",
    "    for i in range(4):\n",
    "        fivturns.append(turns[(i+1)*30-1] - turns[i*30-1])\n",
    "    fivturns.append(turns[148] - turns[119])\n",
    "    fivturns = np.array(fivturns)\n",
    "    fivturns[0] = turns[29] - turns[0]                                  \n",
    "    return fivturns\n"
   ]
  },
  {
   "cell_type": "code",
   "execution_count": 9,
   "metadata": {},
   "outputs": [],
   "source": [
    "def cw_ccw(flynum):\n",
    "    angle_5s = cal_angle_5s(flynum)\n",
    "    two_states = np.zeros(len(angle_5s))\n",
    "    for i, v in enumerate(angle_5s):\n",
    "        if v <0: \n",
    "            two_states[i] = 1 #CW\n",
    "        elif v >0:\n",
    "            two_states[i] = 2 #CCW \n",
    "    return two_states"
   ]
  },
  {
   "cell_type": "code",
   "execution_count": 10,
   "metadata": {},
   "outputs": [],
   "source": [
    "fly_tra = traj(0)\n",
    "import math\n",
    "def calculate_distance(starting_x, starting_y, destination_x, destination_y):\n",
    "    distance = math.hypot(destination_x - starting_x, \n",
    "                          destination_y - starting_y)  \n",
    "\n",
    "    return np.abs(distance)\n",
    "def velocity(flynum):\n",
    "    fly_tra = traj(flynum)\n",
    "    x, y = fly_tra\n",
    "    velo = [0]\n",
    "    for i in range(len(x)-1):\n",
    "        d = calculate_distance(x[i], y[i], x[i+1], y[i+1])\n",
    "        v = d/1\n",
    "        velo.append(v)\n",
    "    return np.array(velo)\n",
    "\n",
    "def fiv_velocity(flynum):\n",
    "    v = velocity(flynum)\n",
    "    fiv_vel = np.array([np.mean(v[0:29]), np.mean(v[29:59]), \n",
    "                    np.mean(v[59:89]), np.mean(v[89:119])\n",
    "                    , np.mean(v[119:149])])\n",
    "    return fiv_vel"
   ]
  },
  {
   "cell_type": "code",
   "execution_count": 11,
   "metadata": {},
   "outputs": [],
   "source": [
    "def threestates(flynum):\n",
    "    two = cw_ccw(flynum)\n",
    "    v = fiv_velocity(flynum)\n",
    "    two[v<0.0015]=0   #threshold were made after plotting average velocity\n",
    "    return two"
   ]
  },
  {
   "cell_type": "markdown",
   "metadata": {},
   "source": [
    "## An Example of How States Could be Like"
   ]
  },
  {
   "cell_type": "code",
   "execution_count": 12,
   "metadata": {},
   "outputs": [
    {
     "name": "stdout",
     "output_type": "stream",
     "text": [
      "[1. 2. 1. 2. 2.]\n",
      "[0. 0. 0. 1. 0.]\n",
      "[2. 1. 1. 2. 1.]\n",
      "[1. 2. 1. 2. 1.]\n"
     ]
    }
   ],
   "source": [
    "for i in allcondition_st_8[1][0:4]:\n",
    "    print(threestates(i))"
   ]
  },
  {
   "cell_type": "markdown",
   "metadata": {},
   "source": [
    "## Entropy Calculation (information theory)"
   ]
  },
  {
   "cell_type": "code",
   "execution_count": 13,
   "metadata": {},
   "outputs": [],
   "source": [
    "from scipy.stats import entropy\n",
    "def entropy_cal(labels, base=None):\n",
    "    value,counts = np.unique(labels, return_counts=True)\n",
    "    return entropy(counts, base=base)\n",
    "\n",
    "def avg_entropy(condition): \n",
    "    en = 0\n",
    "    for i in condition[0]:\n",
    "        en +=entropy_cal(threestates(i), base=None)\n",
    "    en = en/len(condition[0])    \n",
    "    return en"
   ]
  },
  {
   "cell_type": "code",
   "execution_count": 14,
   "metadata": {},
   "outputs": [
    {
     "name": "stdout",
     "output_type": "stream",
     "text": [
      "Avg Entropy Grouped by Foodtype: \n",
      "1000mM: 0.3167568464110782\n",
      "100mM: 0.3167568464110782\n",
      "10mM: 0.0\n",
      "1mM: 1.0549201679861442\n",
      "water: 0.47513526961661734\n"
     ]
    }
   ],
   "source": [
    "print('Avg Entropy Grouped by Foodtype: ')\n",
    "fdtype = ['1000mM: ', '100mM: ','10mM: ','1mM: ','water: ']\n",
    "allfoodtypecond = [allcondition_1000, allcondition_100, allcondition_10,\n",
    "                  allcondition_1,allcondition_water]\n",
    "for i in range(len(allfoodtypecond)):\n",
    "    print(fdtype[i] + str(avg_entropy(allfoodtypecond[i])))"
   ]
  },
  {
   "cell_type": "code",
   "execution_count": 15,
   "metadata": {},
   "outputs": [
    {
     "name": "stdout",
     "output_type": "stream",
     "text": [
      "Avg Entropy Grouped by Starved Time: \n",
      "0hr: 0.3167568464110782\n",
      "8hr: 0.6110239532181061\n",
      "16hr: 0.3609269483722018\n",
      "24hr: 0.39454430293470355\n",
      "32hr: 0.3590584941838202\n"
     ]
    }
   ],
   "source": [
    "print('Avg Entropy Grouped by Starved Time: ')\n",
    "sttype = ['0hr: ', '8hr: ','16hr: ','24hr: ','32hr: ']\n",
    "allstcond = [allcondition_st_0, allcondition_st_8, allcondition_st_16,\n",
    "                  allcondition_st_24,allcondition_st_32]\n",
    "for i in range(len(allstcond)):\n",
    "    print(sttype[i] + str(avg_entropy(allstcond[i])))"
   ]
  },
  {
   "cell_type": "code",
   "execution_count": null,
   "metadata": {},
   "outputs": [],
   "source": []
  },
  {
   "cell_type": "code",
   "execution_count": null,
   "metadata": {},
   "outputs": [],
   "source": []
  }
 ],
 "metadata": {
  "kernelspec": {
   "display_name": "Python 3",
   "language": "python",
   "name": "python3"
  },
  "language_info": {
   "codemirror_mode": {
    "name": "ipython",
    "version": 3
   },
   "file_extension": ".py",
   "mimetype": "text/x-python",
   "name": "python",
   "nbconvert_exporter": "python",
   "pygments_lexer": "ipython3",
   "version": "3.6.10"
  }
 },
 "nbformat": 4,
 "nbformat_minor": 4
}
