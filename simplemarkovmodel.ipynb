{
 "cells": [
  {
   "cell_type": "markdown",
   "metadata": {},
   "source": [
    "# How Do Mice's Food-interaction Dynamic Changes according to their Hunger Levels and the Value of Food Given?"
   ]
  },
  {
   "cell_type": "markdown",
   "metadata": {},
   "source": [
    "Experiment:\n",
    "- mice: 6-hr or 24-hr fasted\n",
    "- Open Field Test: mice were place individually in an open arena with a food source placed in the center, they were allowed to interact with it undistrubed in the dark for ~ 20 mins\n",
    "- food source given: calorie-densed gel or low-calorie gel"
   ]
  },
  {
   "cell_type": "code",
   "execution_count": 3,
   "metadata": {},
   "outputs": [],
   "source": [
    "import pandas as pd ; import numpy as np; import matplotlib.pyplot as plt\n",
    "from shapely.geometry import Point\n",
    "from shapely.geometry.polygon import Polygon\n",
    "import coordinates ; import lc_functions"
   ]
  },
  {
   "cell_type": "markdown",
   "metadata": {},
   "source": [
    "#### Importing Data"
   ]
  },
  {
   "cell_type": "code",
   "execution_count": 5,
   "metadata": {},
   "outputs": [],
   "source": [
    "#From dlc\n",
    "dlc_all = pd.read_csv(\"F0C3_24_cam_top_DLC_resnet50_OF_all_8_04Apr8shuffle1_30000.csv\",header = 1)\n",
    "dlc = dlc_all.drop([0])\n",
    "\n",
    "nose = np.array(list(zip(dlc['Nose'], dlc['Nose.1'])))[300:]  #subtracting initial 300 df - artifact\n",
    "cm_to_pix = 430/40 # ratio pix to cm\n",
    "\n",
    "nose_cm = np.zeros(np.shape(nose))\n",
    "for i in range(len(nose)):\n",
    "    nose_cm[i] = np.array([float(nose[i][n])/cm_to_pix for n in range(2)])"
   ]
  },
  {
   "cell_type": "markdown",
   "metadata": {},
   "source": [
    "## Defining 3 Behavioral States that Describes Food Interaction in 1 Trial"
   ]
  },
  {
   "cell_type": "markdown",
   "metadata": {},
   "source": [
    "To gauge the behavioral dynamics of each trial, I decided to segregate the mice's behavioral state in each trial into 3, then calculate the probability in which they transition between them.\n",
    "\n",
    "3 Behavioral States\n",
    "- 1) non-food interactions\n",
    "- 2) short interaction with food (e.g. sniffing)\n",
    "- 3) long interaction with food (e.g. eating/licking)"
   ]
  },
  {
   "cell_type": "code",
   "execution_count": 6,
   "metadata": {},
   "outputs": [],
   "source": [
    "#computes '?' inside source coordinate\n",
    "in_nose = np.zeros(nose[:,0].shape)\n",
    "for i in range(len(nose)):\n",
    "    in_nose[i] = np.array(lc_functions.inside_cor(nose_cm[i]))"
   ]
  },
  {
   "cell_type": "code",
   "execution_count": 7,
   "metadata": {},
   "outputs": [],
   "source": [
    "def threebehaviors(threshold, in_nose):\n",
    "    #long interaction - every inside source that  >= threshold\n",
    "    long_int = lc_functions.dur_long_time(in_nose, threshold) \n",
    "    f_long = lc_functions.convert_np_to_wholelist(long_int)\n",
    "    \n",
    "    #short interaction - every inside source that < threshold\n",
    "    short_int =  lc_functions.dur_short_time(in_nose, threshold) \n",
    "    f_short = lc_functions.convert_np_to_wholelist(short_int)\n",
    "    \n",
    "    #non-interaction\n",
    "    f_interactions = set(f_long + f_short)\n",
    "\n",
    "    all_f = set(np.arange(0,len(nose_cm)))\n",
    "    f_nonfood = all_f  - all_f.intersection(f_interactions)\n",
    "    \n",
    "    return (f_long, f_short, list(f_nonfood))   "
   ]
  },
  {
   "cell_type": "markdown",
   "metadata": {},
   "source": [
    "## Calculate the Transition Probability between the 3 Behavior States"
   ]
  },
  {
   "cell_type": "code",
   "execution_count": 9,
   "metadata": {},
   "outputs": [],
   "source": [
    "def transition_count(threshold_for_long, in_nose):\n",
    "    f_long, f_short, f_nonfood = threebehaviors(threshold_for_long, in_nose)\n",
    "    all_f = np.arange(0,len(nose_cm))\n",
    "    all_f[f_nonfood] = 0 #non-food interaction\n",
    "    all_f[f_long] = 1 #long food interaction\n",
    "    all_f[f_short] = 2 #short food interaction\n",
    "    \n",
    "    chunked_all_f = all_f[np.insert(np.diff(all_f).astype(np.bool), 0, True)]\n",
    "    \n",
    "    #building transition matrix\n",
    "    trans_dict  = {\"long_short\":[],\"long_non\":[],\"short_long\":[] \n",
    "                ,\"short_non\":[],\"non_short\":[],\"non_long\":[]};\n",
    "    #counting\n",
    "    c_long_short = 0 ; c_long_non = 0 ; c_short_long = 0\n",
    "    c_short_non = 0 ; c_non_short = 0; c_non_long = 0 \n",
    "\n",
    "    for i in range(len(chunked_all_f)-1):\n",
    "        if chunked_all_f[i] == 1:\n",
    "            if chunked_all_f[i+1] == 2:\n",
    "                c_long_short +=1\n",
    "            elif chunked_all_f[i+1] == 0:\n",
    "                c_long_non +=1\n",
    "        elif chunked_all_f[i] == 2:\n",
    "            if chunked_all_f[i+1] == 1:\n",
    "                c_short_long +=1\n",
    "            elif chunked_all_f[i+1] == 0:\n",
    "                c_short_non +=1\n",
    "        elif chunked_all_f[i] == 0:\n",
    "            if chunked_all_f[i+1] == 2:\n",
    "                c_non_short +=1\n",
    "            elif chunked_all_f[i+1] == 1:\n",
    "                c_non_long +=1\n",
    "        \n",
    "    #append back in dictionary\n",
    "    trans_dict[\"long_short\"].append(c_long_short)\n",
    "    trans_dict[\"long_non\"].append(c_long_non)\n",
    "    trans_dict[\"short_long\"].append(c_short_long)\n",
    "    trans_dict[\"short_non\"].append(c_short_non)\n",
    "    trans_dict[\"non_short\"].append(c_non_short)\n",
    "    trans_dict[\"non_long\"].append(c_non_long)\n",
    "\n",
    "    return trans_dict"
   ]
  },
  {
   "cell_type": "code",
   "execution_count": 28,
   "metadata": {},
   "outputs": [],
   "source": [
    "def trans_matrix(threshold_for_long, in_nose):\n",
    "    t_dict = transition_count(threshold_for_long, in_nose)\n",
    "    total_trans = sum(t_dict[item][0] for item in t_dict)\n",
    "\n",
    "    p_long_non = t_dict['long_non'][0]/total_trans\n",
    "    p_short_non = t_dict['short_non'][0]/total_trans\n",
    "    p_non_short = t_dict['non_short'][0]/total_trans\n",
    "    p_non_long = t_dict['non_long'][0]/total_trans\n",
    "    p_long_long = 1 - p_long_non\n",
    "    p_short_short = 1 - p_short_non\n",
    "    p_non_non = 1 - p_non_short - p_non_long\n",
    "    \n",
    "    m = np.array([\n",
    "        [p_non_non, p_long_non, p_short_non ],\n",
    "        [p_non_long, p_long_long, 0],\n",
    "        [p_non_short, 0, p_short_short]],dtype=object)\n",
    "    \n",
    "    row_labels = ['Non-food int', 'long food int', 'short food int']\n",
    "    column_labels = ['Non-food int', 'long food int', 'short food int']\n",
    "    \n",
    "    import pandas\n",
    "    df = pandas.DataFrame(m, columns=column_labels, index=row_labels)\n",
    "    return df"
   ]
  },
  {
   "cell_type": "code",
   "execution_count": 29,
   "metadata": {},
   "outputs": [
    {
     "name": "stdout",
     "output_type": "stream",
     "text": [
      "time for long interaction = 3.0303030303030303s\n",
      "               Non-food int long food int short food int\n",
      "Non-food int            0.5     0.0820896        0.41791\n",
      "long food int     0.0820896       0.91791              0\n",
      "short food int      0.41791             0        0.58209\n"
     ]
    },
    {
     "name": "stderr",
     "output_type": "stream",
     "text": [
      "/Users/alisonsin/Desktop/thesis/lc_functions.py:49: VisibleDeprecationWarning: Creating an ndarray from ragged nested sequences (which is a list-or-tuple of lists-or-tuples-or ndarrays with different lengths or shapes) is deprecated. If you meant to do this, you must specify 'dtype=object' when creating the ndarray\n",
      "  split_ind_one = np.array(np.split(ind_one, np.where(np.diff(ind_one) != 1)[0]+1))\n",
      "/Users/alisonsin/Desktop/thesis/lc_functions.py:61: VisibleDeprecationWarning: Creating an ndarray from ragged nested sequences (which is a list-or-tuple of lists-or-tuples-or ndarrays with different lengths or shapes) is deprecated. If you meant to do this, you must specify 'dtype=object' when creating the ndarray\n",
      "  split_ind_one = np.array(np.split(ind_one, np.where(np.diff(ind_one) != 1)[0]+1))\n",
      "/Users/alisonsin/Desktop/thesis/lc_functions.py:9: VisibleDeprecationWarning: Creating an ndarray from ragged nested sequences (which is a list-or-tuple of lists-or-tuples-or ndarrays with different lengths or shapes) is deprecated. If you meant to do this, you must specify 'dtype=object' when creating the ndarray\n",
      "  for i in range(len(type_int))])\n",
      "/Users/alisonsin/Desktop/thesis/lc_functions.py:38: VisibleDeprecationWarning: Creating an ndarray from ragged nested sequences (which is a list-or-tuple of lists-or-tuples-or ndarrays with different lengths or shapes) is deprecated. If you meant to do this, you must specify 'dtype=object' when creating the ndarray\n",
      "  split_ind_one = np.array(np.split(ind_one, np.where(np.diff(ind_one) != 1)[0] + 1))\n",
      "/Users/alisonsin/Desktop/thesis/lc_functions.py:76: VisibleDeprecationWarning: Creating an ndarray from ragged nested sequences (which is a list-or-tuple of lists-or-tuples-or ndarrays with different lengths or shapes) is deprecated. If you meant to do this, you must specify 'dtype=object' when creating the ndarray\n",
      "  split_ind_one = np.array(np.split(ind_one, np.where(np.diff(ind_one) != 1)[0]+1))\n"
     ]
    }
   ],
   "source": [
    "threshold_for_long = 100 #time frame\n",
    "print('time for long interaction = ' + str(threshold_for_long/33) + 's')\n",
    "print(trans_matrix(threshold_for_long, in_nose))"
   ]
  },
  {
   "cell_type": "code",
   "execution_count": null,
   "metadata": {},
   "outputs": [],
   "source": []
  }
 ],
 "metadata": {
  "kernelspec": {
   "display_name": "Python 3",
   "language": "python",
   "name": "python3"
  },
  "language_info": {
   "codemirror_mode": {
    "name": "ipython",
    "version": 3
   },
   "file_extension": ".py",
   "mimetype": "text/x-python",
   "name": "python",
   "nbconvert_exporter": "python",
   "pygments_lexer": "ipython3",
   "version": "3.6.10"
  }
 },
 "nbformat": 4,
 "nbformat_minor": 4
}
